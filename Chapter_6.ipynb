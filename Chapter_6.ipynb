{
  "nbformat": 4,
  "nbformat_minor": 0,
  "metadata": {
    "colab": {
      "name": "Chapter 6.ipynb",
      "provenance": [],
      "collapsed_sections": [],
      "authorship_tag": "ABX9TyO9RXeHWmt0QoJc9EYNzEhP",
      "include_colab_link": true
    },
    "kernelspec": {
      "name": "python3",
      "display_name": "Python 3"
    }
  },
  "cells": [
    {
      "cell_type": "markdown",
      "metadata": {
        "id": "view-in-github",
        "colab_type": "text"
      },
      "source": [
        "<a href=\"https://colab.research.google.com/github/andersknudby/Remote-Sensing/blob/master/Chapter_6.ipynb\" target=\"_parent\"><img src=\"https://colab.research.google.com/assets/colab-badge.svg\" alt=\"Open In Colab\"/></a>"
      ]
    },
    {
      "cell_type": "markdown",
      "metadata": {
        "id": "_yoOhkp5uHdN"
      },
      "source": [
        "#Chapter 6 – Reading, manipulating, and writing raster data\r\n",
        "Text files were relatively easy to deal with, because they have a simple format, and we know that we can treat all the data in them as text, and that it is structured line by line. Reading a more complex file format, like those typically used to store raster data, is more complicated. However, much of the complication has been hidden in objects and functions already created for us in what is called GDAL – the Geospatial Data Abstraction Library. \\[[GDAL](http://www.gdal.org/)] contains object types that we can think of as complex variables, like a ‘raster dataset’ that has different properties like a ‘datum’ and a ‘number of bands’ and so on. GDAL also contains functions to read, manipulate, and write such objects, so we don’t need to code every little detail of those complex operations ourselves.\r\n",
        "\r\n",
        "One big drawback is that GDAL is oddly complicated to import properly, especially on Windows machines. The main problem is that, to use GDAL, Python needs to know where all its files are, and because GDAL can be installed in many different ways, and especially because a computer can have multiple versions of Python installed, it quickly gets very confusing. But for the time being that is not going to stop us, because importing gdal in Colab is as easy as:"
      ]
    },
    {
      "cell_type": "code",
      "metadata": {
        "id": "y5_SEf47uGI4"
      },
      "source": [
        "from osgeo import gdal"
      ],
      "execution_count": null,
      "outputs": []
    },
    {
      "cell_type": "markdown",
      "metadata": {
        "id": "0EdNgUYmwM02"
      },
      "source": [
        "There are other Python libraries that use the functionality of GDAL and add additional functions, improve user-friendliness, or otherwise enhance its functionality. Here we will use one such library, called rasterio. In this chapter we will use some of rasterio's functions, but we are not going to go through everything. To use this library more in the future you can make use of it's 'readthedocs' page \\[[rasterio](https://rasterio.readthedocs.io/en/latest/index.html)].\r\n",
        "\r\n",
        "The rasterio library doesn't come with Colab, so we need to install it first:"
      ]
    },
    {
      "cell_type": "code",
      "metadata": {
        "id": "zeaUTZL3w2AD"
      },
      "source": [
        "!pip install rasterio"
      ],
      "execution_count": null,
      "outputs": []
    },
    {
      "cell_type": "markdown",
      "metadata": {
        "id": "p9FMvEm6xDl9"
      },
      "source": [
        "And when we're done installing it we can import it:"
      ]
    },
    {
      "cell_type": "code",
      "metadata": {
        "id": "ISRC1Do7wiya"
      },
      "source": [
        "import rasterio"
      ],
      "execution_count": null,
      "outputs": []
    },
    {
      "cell_type": "markdown",
      "metadata": {
        "id": "JGDMxzXqu3W3"
      },
      "source": [
        "For this chapter, we will use a section of an aerial orthophoto of Simon Fraser University, stored in GeoTiff format, called ‘sfu.tif’. If you want to get an idea of what the image looks like before working with it in Python (always a good idea), open it in one of the software packages you already know and take a look at its properties etc. QGIS is good for this, as you can install it on your home computer regardless of its operating system. If you do so, one thing you will notice is that the ‘first band’ in the image (e.g. what ArcGIS calls ‘Band_1’) is the ‘Red’ band. In other words it contains information on the amount of electromagnetic radiation in the 600-700nm wavelength range reaching the camera from different parts of campus. Similarly, the second band is ‘Green’, and the third band is ‘Blue’. If we are to use this image in an intelligent fashion, we need to know this."
      ]
    },
    {
      "cell_type": "markdown",
      "metadata": {
        "id": "yeDDTXexviIa"
      },
      "source": [
        "##Reading a raster dataset\r\n",
        "GDAL structures raster data in a hierarchy, with three main components.\r\n",
        "\r\n",
        "1\\) The **dataset** is the entire, well, dataset, including all the data and all the metadata in one object. The dataset has certain properties, like a projection, a datum, a geotransform (that contain e.g. the pixel size), and so on. These are all defined for the dataset because they are a property of the dataset - they have to be the same for all the individual raster data layers in one dataset.\r\n",
        "\r\n",
        "2\\) The dataset is organized in **bands**. Bands also have certain properties, like the minimum and the maximum value. Similarly, these properties are defined for each band because they are a property of the band, not the dataset, and not the individual pixel. However, it is important to note that a band in GDAL is a ‘pointer’ to the data that are in the band itself, so you can ’open the band’ to access its properties (e.g. its minimum value) without having to actually read all the data. This may be confusing for now, but it will be clearer in the examples to follow.\r\n",
        "\r\n",
        "3\\)\tThe actual data pointed to by each band can be read and stored in Python as NumPy **arrays**. These arrays have all the same properties other NumPy arrays have, like shape (e.g. number of columns and rows).\r\n",
        "\r\n",
        "rasterio inherits this structure as well, although it merges **bands** and **arrays** in its own data objects. An example will help illustrate how this all works. First we need to make sure we have access to the file through Google Drive:"
      ]
    },
    {
      "cell_type": "code",
      "metadata": {
        "id": "ODJDwf7Wx2TD"
      },
      "source": [
        "from google.colab import drive\r\n",
        "drive.mount('/content/drive')\r\n",
        "\r\n",
        "myDir = '/content/drive/My Drive/Python files/'\r\n",
        "\r\n",
        "import os\r\n",
        "if os.path.exists(myDir + 'sfu.tif'):\r\n",
        "  print(\"Drive mounted and directory found\")\r\n",
        "else:\r\n",
        "  print(\"No access to the files\")"
      ],
      "execution_count": null,
      "outputs": []
    },
    {
      "cell_type": "markdown",
      "metadata": {
        "id": "p0GZ0ubkyXEU"
      },
      "source": [
        "Then we'll open the file with rasterio:"
      ]
    },
    {
      "cell_type": "code",
      "metadata": {
        "id": "xmeEKKD1yZc1"
      },
      "source": [
        "fileName = myDir + 'sfu.tif'\r\n",
        "\r\n",
        "ds = rasterio.open(fileName)  # ds is a commonly used shorthand for 'dataset'"
      ],
      "execution_count": null,
      "outputs": []
    },
    {
      "cell_type": "markdown",
      "metadata": {
        "id": "WSbzZmskypm-"
      },
      "source": [
        "Now we have a dataset, so we can figure out a few things about it:"
      ]
    },
    {
      "cell_type": "code",
      "metadata": {
        "id": "l9Zq6BT6y3YA"
      },
      "source": [
        "print(\"Dataset name is\", ds.name)\r\n",
        "print(\"Number of bands in dataset:\", ds.count)\r\n",
        "print(\"Number of columns in dataset:\", ds.width)\r\n",
        "print(\"Number of rows in dataset:\", ds.height)"
      ],
      "execution_count": null,
      "outputs": []
    },
    {
      "cell_type": "markdown",
      "metadata": {
        "id": "qqkMqmTR0J_Z"
      },
      "source": [
        "We can also find out something about the georeference of the data:"
      ]
    },
    {
      "cell_type": "code",
      "metadata": {
        "id": "Zua2QecU0MbX"
      },
      "source": [
        "print(\"Dataset coordinate reference system (CRS):\", ds.crs)\r\n",
        "print(\"Dataset bounds:\", ds.bounds)\r\n",
        "print(\"Dataset geotransform:\", ds.transform)"
      ],
      "execution_count": null,
      "outputs": []
    },
    {
      "cell_type": "markdown",
      "metadata": {
        "id": "Tx84SnL-0S4O"
      },
      "source": [
        "* The EPSG code you see above refers UTM Zone 10N, based on the WGS84 datum.\r\n",
        "* The bounds tell us the area covered by the image.\r\n",
        "* And the transform tells us something about the pixel size (0.10, in meters), the x coordinate of the left side of the image (506537.0), and the y coordinate of the top of the image (5458686.0).\r\n",
        "* All coordinates for the bounds and the transform refer to the CRS."
      ]
    },
    {
      "cell_type": "markdown",
      "metadata": {
        "id": "sRixhHww08ly"
      },
      "source": [
        "You may not have noticed, but opening the dataset was very fast - much faster than if you had opened it in a GIS software. That's because Python didn't actually read all the data - it just read all the information about the data, like what we printed in the code blocks above. To read the actual data we need to read the bands, and from the bands we can read the arrays - the actual numerical values the image is made up of.\r\n",
        "\r\n",
        "**Important to note:** GDAL starts counting bands from 1 (not 0, as is otherwise default in Python):"
      ]
    },
    {
      "cell_type": "code",
      "metadata": {
        "id": "itUxe9mu1e31"
      },
      "source": [
        "band1 = ds.read(1)\r\n",
        "band1"
      ],
      "execution_count": null,
      "outputs": []
    },
    {
      "cell_type": "markdown",
      "metadata": {
        "id": "xiM6TK0d2LFw"
      },
      "source": [
        "Values from the array, i.e. values from individual pixels in the image, can be addressed by their row, column index:"
      ]
    },
    {
      "cell_type": "code",
      "metadata": {
        "id": "24ae-lD22OqQ"
      },
      "source": [
        "band1[453, 1243]"
      ],
      "execution_count": null,
      "outputs": []
    },
    {
      "cell_type": "markdown",
      "metadata": {
        "id": "CJ9k3qiP2kWB"
      },
      "source": [
        "Ok, so now we know how to open an image dataset, get some information about it, and read the values from individual bands into NumPy arrays. Which means we can use our knowledge of NumPy arrays to work with the data!\r\n",
        "\r\n",
        "For example, if we want to describe the brightness of each pixel irrespective of its 'colour' we can calculate that as, say, the average of its value in the three bands. And we can use NumPy's array functions to do that very quickly and efficiently:"
      ]
    },
    {
      "cell_type": "code",
      "metadata": {
        "id": "XhO4AI3f3L_E"
      },
      "source": [
        "import numpy as np\r\n",
        "band1 = ds.read(1)\r\n",
        "band2 = ds.read(2)\r\n",
        "band3 = ds.read(3)\r\n",
        "brightness = (band1 + band2 + band3) / 3\r\n",
        "brightness"
      ],
      "execution_count": null,
      "outputs": []
    },
    {
      "cell_type": "markdown",
      "metadata": {
        "id": "dW0Ml2wo4C9f"
      },
      "source": [
        "**Warning:** There’s one thing to consider here, that GDAL (and rasterio, and NumPy) isn’t particularly well built to help us with. There's actually an important error - a semantic error - in the above code. It is most easily illustrated by looking at a single pixel (and paying attention to the 'RuntimeWarning' it shows when we run hte code below:\r\n"
      ]
    },
    {
      "cell_type": "code",
      "metadata": {
        "id": "ZLSkMlFz4dvh"
      },
      "source": [
        "band1Value = band1[100,500]\r\n",
        "band2Value = band2[100,500]\r\n",
        "band3Value = band3[100,500]\r\n",
        "print(\"Values in the three bands are:\", band1Value, band2Value, band3Value)\r\n",
        "\r\n",
        "averageValue = (band1Value + band2Value + band3Value) / 3\r\n",
        "print(\"The average value is:\", averageValue)"
      ],
      "execution_count": null,
      "outputs": []
    },
    {
      "cell_type": "markdown",
      "metadata": {
        "id": "WBstGXL95QsN"
      },
      "source": [
        "What is going on here - the three values are 131, 129 and 111 respectively, and when we calculate the average it is... 38.3?!?\r\n",
        "\r\n",
        "The problem is that the data from the image are stored as 8-bit unsigned integers, as demonstrated by:"
      ]
    },
    {
      "cell_type": "code",
      "metadata": {
        "id": "D9UIi_xZ5hot"
      },
      "source": [
        "band1Value.dtype"
      ],
      "execution_count": null,
      "outputs": []
    },
    {
      "cell_type": "markdown",
      "metadata": {
        "id": "ahHgsVlI5n-V"
      },
      "source": [
        "Feel free to do some searches to learn more about data types, but the short version relevant here is that 8-bit unsigned integers can only contain values between 0 and 255. When we calculate (band1Value + band2Value + band3Value) we get 131 + 129 + 111 = 371. More than what our data type can handle. What NumPy does then, is that when it counts up and reaches 255, it 'folds over' and starts counting again from 0 (instead of 256). So, given that it is bound to an 8-bit unsigned integer, instead of adding all the data up to 371 it ends up at 371 - 256 = 115. And ***then*** it divides by 3, to get to 38.3."
      ]
    },
    {
      "cell_type": "markdown",
      "metadata": {
        "id": "9salhv0M6rea"
      },
      "source": [
        "To avoid all this nonsense, the easiest solution is to convert data to a more suitable data type when you first read them from the image file. In our example we can do that like this, with NumPy's 'astype' function:"
      ]
    },
    {
      "cell_type": "code",
      "metadata": {
        "id": "jsL74e0N60na"
      },
      "source": [
        "import numpy as np\r\n",
        "band1 = ds.read(1).astype('uint16')\r\n",
        "band2 = ds.read(2).astype('uint16')\r\n",
        "band3 = ds.read(3).astype('uint16')\r\n",
        "brightness = (band1 + band2 + band3) / 3"
      ],
      "execution_count": null,
      "outputs": []
    },
    {
      "cell_type": "markdown",
      "metadata": {
        "id": "zPrQpyHS7yIl"
      },
      "source": [
        "And to prove that it produces the desired result:"
      ]
    },
    {
      "cell_type": "code",
      "metadata": {
        "id": "D_2UDo1574-G"
      },
      "source": [
        "band1Value = band1[100,500]\r\n",
        "band2Value = band2[100,500]\r\n",
        "band3Value = band3[100,500]\r\n",
        "print(\"Values in the three bands are:\", band1Value, band2Value, band3Value)\r\n",
        "\r\n",
        "averageValue = (band1Value + band2Value + band3Value) / 3\r\n",
        "print(\"The average value is:\", averageValue)"
      ],
      "execution_count": null,
      "outputs": []
    },
    {
      "cell_type": "markdown",
      "metadata": {
        "id": "dbr9TAu_7-d-"
      },
      "source": [
        "##Writing a raster dataset\r\n",
        "Now that we have a product from our image analysis we typically want to write the result to a file as a new raster dataset. Writing NumPy arrays to raster files includes a series of steps, as outlined below. It's more complicated than writing a text file, because raster datasets not only have the image data but also the associated information we read earlier, like the coordinate reference system, the bounds, and so on. The different components of the data, as listed in the newDs below, are:\r\n",
        "* myDir + 'brightness.tif' indicates the name of the file to create and write to\r\n",
        "* 'w' indicates that we want this file to be open for writing\r\n",
        "* driver='GTiff' indicates that we want the file format to be GeoTiff\r\n",
        "* height and width are the number of rows and columns in the new image\r\n",
        "* count is the number of bands in the new image. While we had three in the original, we have only one here (to write the brightness into)\r\n",
        "* dtype='float64' indicates that we want to write decimal values into individual pixels\r\n",
        "* crs and transform are the same as the original image"
      ]
    },
    {
      "cell_type": "code",
      "metadata": {
        "id": "mAvL-G9g8tnw"
      },
      "source": [
        "newDs = rasterio.open(myDir + 'brightness.tif', 'w', driver='GTiff',\r\n",
        "                            height=ds.height, width=ds.width, count=1,\r\n",
        "                            dtype='float64', crs=ds.crs, transform=ds.transform)\r\n",
        "newDs.write(brightness, 1)\r\n",
        "newDs.close()"
      ],
      "execution_count": null,
      "outputs": []
    },
    {
      "cell_type": "markdown",
      "metadata": {
        "id": "LNt8kGLq-p2R"
      },
      "source": [
        "As in the last chapter, to actually write this file to your Google Drive you need to flush and unmount it:"
      ]
    },
    {
      "cell_type": "code",
      "metadata": {
        "id": "bwvCoSfA-ukF"
      },
      "source": [
        "drive.flush_and_unmount()"
      ],
      "execution_count": null,
      "outputs": []
    },
    {
      "cell_type": "markdown",
      "metadata": {
        "id": "wMbhSfAEAe7y"
      },
      "source": [
        "Go to your Google Drive, download the file called 'brightness.tif', and open it in QGIS next to the original image file. Does the result make sense - i.e. do bright pixels in the original have higher values in the brightness image?"
      ]
    },
    {
      "cell_type": "markdown",
      "metadata": {
        "id": "mnL7cS_mAOvp"
      },
      "source": [
        "##Exercise\r\n",
        "To map vegetation with three-band (red, green and blue) imagery, you can rely on the fact that most things other than vegetation, in the natural world, are not green. You can thus calculate a ‘greenness’ index as a proxy for vegetation. An often used index is the Green Chromatic Coordinate (GCC), which is simply calculated as: Green / (Red + Green + Blue). Modify the code from this chapter to calculate the GCC, and write it to a new file called ‘gcc.tif’. Compare it to the original image to check that high GCC values actually correspond to vegetated areas, and vice versa."
      ]
    }
  ]
}
