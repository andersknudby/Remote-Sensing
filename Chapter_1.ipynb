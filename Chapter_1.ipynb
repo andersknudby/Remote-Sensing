{
  "nbformat": 4,
  "nbformat_minor": 0,
  "metadata": {
    "colab": {
      "name": "Chapter 1.ipynb",
      "provenance": [],
      "collapsed_sections": [],
      "authorship_tag": "ABX9TyOrv2qBgGs/kEm1CzdsA7Py",
      "include_colab_link": true
    },
    "kernelspec": {
      "name": "python3",
      "display_name": "Python 3"
    }
  },
  "cells": [
    {
      "cell_type": "markdown",
      "metadata": {
        "id": "view-in-github",
        "colab_type": "text"
      },
      "source": [
        "<a href=\"https://colab.research.google.com/github/andersknudby/Remote-Sensing/blob/master/Chapter_1.ipynb\" target=\"_parent\"><img src=\"https://colab.research.google.com/assets/colab-badge.svg\" alt=\"Open In Colab\"/></a>"
      ]
    },
    {
      "cell_type": "markdown",
      "metadata": {
        "id": "jv7dvT-f2nvH"
      },
      "source": [
        "#Chapter 1 - Introduction\r\n",
        "\r\n",
        "##Process-based Python programming\r\n",
        "\r\n",
        "We will focus on the programming language called **Python**, and there are a couple of good reasons for that. Python is what’s called a ‘high-level language’, loosely meaning that the code you write is reasonable interpretable to a human being (technically, it means that the language has a high level of abstraction, which means that it hides many of the most computer sciency things from you, like managing specific memory locations in the computer). Python has been designed to be especially interpretable, and good code (called ‘pythonic’ code in the community) is considered code that is clear and easily interpretable, rather than necessarily producing the fastest possible execution. Python also has a very large user community and an immense amount of help and code examples online, so it a relatively easy language to learn. If you want to do more than is included in these notes, a highly-regarded introduction that is available online is the book called \\[[Learn Python the hard way](https://learnpythonthehardway.org/book/)].\r\n",
        "\r\n",
        "We will also focus on what I call process programming (not an official term), in which user interaction doesn’t happen (or is only used to initialize the program). Think of the .exe/.dmg file you use to install a piece of software on your Windows/OSX machine. You may specify a few things to start with, but after that the program simply runs, does its thing, and finishes. The same kind of execution characterizes a tool run in a geospatial software package, like one of the tools you might use in ArcGIS. You specify some parameters (called ‘arguments’ when they are passed to the tool), and when you click ‘Ok’ the tool executes without further interaction from you. The product of this kind of program is typically one or more files.\r\n",
        "\r\n",
        "The alternative to ‘process programming’ is what I call ‘state-based programming’, in which a software has a certain state and user input modifies that state. Think of having ArcGIS open and a bunch of data sets loaded. ArcGIS is in a certain state, which is defined by the layers showing, the zoom level, your choice of geoprocessing options etc. It is this state that you save in the .mxd file when you save your ArcGIS project. Nothing in the state changes with time, except when you do something. Click the ‘zoom in’ button, for example, and the state changes. Add a data layer, and the state changes again. But if you leave the computer and go for coffee, nothing changes in the meantime (hopefully!). While state-based programming is very common and very useful, specifically for processing geospatial data most of what we want to do is process programming. And if we want to integrate our code in a state-based environment, we can create a tool out of it and use it in existing software that allows that.\r\n",
        "\r\n"
      ]
    },
    {
      "cell_type": "markdown",
      "metadata": {
        "id": "89vgEe-T74OV"
      },
      "source": [
        "##Writing Python code – use an IDE\r\n",
        "Python code is most commonly stored in .py files, which are really just text files that have a special extension so we know what they are. Because they are text files, you can create and edit them in any text manipulation software, like Notepad, WordPad etc. (don’t use Word, .docx files are not pure text files!) However, once you start writing lots of code and try to accomplish difficult tasks with Python, an Integrated Development Environment (IDE) gives you a bunch of tools to help you figure out what actually happens in each step of the code, and where things go wrong (and they always do, so an IDE is nice because it helps you fix them). I personally use PyCharm Community Edition as my IDE, which is free and you can download here: \\[[PyCharm Community Edition](https://www.jetbrains.com/pycharm/download/)]. Lab computers at the University of Ottawa also have other IDEs on them, like PyScripter and Spyder. There are similarities as well as differences between each IDE (try googling ‘best python ide’ for lots of highly opinionated contributions on why to choose one over another). In the end selection of IDE is mostly a question of preference. Another extremely useful tool for Python programming is Anaconda, which can help you manage multiple different Python environment, projects, and their associated code. Many people also use Jupyter Notebooks. If you are interested you should explore all these options – all of which are free.\r\n",
        "\r\n",
        "If you are reading this then you already know that in this course we are going to use the online Python IDE called Google Colab. This environment is based on ‘notebooks’ (you are reading one right now), which act as files for your Python code and simultaneously can show visualizations of your data and results. Notebooks are also easy to share online, and to work on collaboratively, so they can be very useful. They are not actually my favourite tool for writing, testing, and debugging code, but on balance I believe they are the best choice for a course like this one.\r\n",
        "\r\n"
      ]
    },
    {
      "cell_type": "markdown",
      "metadata": {
        "id": "FJka9Y5KscJC"
      },
      "source": [
        "#####To make sure that we start from the beginning, please follow these steps to ensure that you learn the basics about colab:\r\n",
        "1\\) Go to google colab here: \\[[Google Colab](http://colab.research.google.com)]\r\n",
        "\r\n",
        "2\\) Explore the \\[[Welcome To Colaboratory](https://colab.research.google.com/notebooks/intro.ipynb#)] page, it has all the basic introduction about how Colab notebooks work.\r\n",
        "\r\n",
        "3\\) Make sure to also scroll down on that page and explore, as a minimum, the pages called:\r\n",
        "\r\n",
        ">a\\) \\[[Guide to Markdown](https://colab.research.google.com/notebooks/markdown_guide.ipynb#)]\r\n",
        "\r\n",
        ">b\\) \\[[Importing libraries and installing dependencies](https://colab.research.google.com/notebooks/snippets/importing_libraries.ipynb)]\r\n",
        "\r\n",
        ">c\\) \\[[Loading data: Drive, Sheets, and Google Cloud Storage](https://colab.research.google.com/notebooks/io.ipynb)]\r\n",
        "\r\n",
        "4\\)\tNow do a brief test to see if things work. In the tradition of programmers since, well, the beginning of programming, we are going to start off by writing the classic ‘Hello World’ program, just to test that we have things working at a basic level:\r\n",
        "\r\n",
        ">a\\) Create a new Colab notebook (File – New notebook)\r\n",
        "\r\n",
        ">b\\) Rename it. To rename the notebook, just click on its name near the top left corner of your browser, and change it. Make sure to keep the .ipynb extension.\r\n",
        "\r\n",
        ">c\\) In the first (and only) code block, type the following code:\r\n",
        "> print(\"Hello World\")\r\n",
        "\r\n",
        ">d\\) Press Ctrl+Enter to execute your code. It should now look like this:\r\n"
      ]
    },
    {
      "cell_type": "code",
      "metadata": {
        "id": "znBTLdJzt9TK"
      },
      "source": [
        "print(\"Hello World!!\")"
      ],
      "execution_count": null,
      "outputs": []
    },
    {
      "cell_type": "markdown",
      "metadata": {
        "id": "owUbKV3xuI7a"
      },
      "source": [
        ">e\\) Very simply, the print command takes whatever is in the brackets - in the this case the text \"Hello World\" - and prints it on the screen immediately below the code block."
      ]
    },
    {
      "cell_type": "markdown",
      "metadata": {
        "id": "eTw2FOgUuZKo"
      },
      "source": [
        "##How to write better code\r\n",
        "It is good practice to provide some explanatory comments along with your code, like who wrote the code, when, and for what purpose. In normal Python, the way to do this is by using the ‘#’ character. In Python, all lines that start with ‘#’ are interpreted as notes that have no function, so these lines are ignored when you run the program. Their only function is to help humans like you and I understand what the code is supposed to do. So you can add as much commentary as you like to help future you (or future someone else) understand what your code is about. So for example you could write something like this (like last time, to see what happens when you execute this code, click on the code block and press Ctrl+Enter):"
      ]
    },
    {
      "cell_type": "code",
      "metadata": {
        "id": "ZCKnTLAUumAI"
      },
      "source": [
        "# Code written by [your name], [today's date]\r\n",
        "# Purpose of code: learn Python\r\n",
        "\r\n",
        "# You can put comments on their own line\r\n",
        "print(\"Hello World\")  # You can also put comments on the same line after actual code"
      ],
      "execution_count": null,
      "outputs": []
    },
    {
      "cell_type": "markdown",
      "metadata": {
        "id": "5TP0j7hou7cA"
      },
      "source": [
        "With colab, or other notebooks, a good alternative is to write your comments using the text blocks, as I have done in this notebook.\r\n",
        "\r\n",
        "You can add new code blocks and new text blocks using the little \"+ Code\" and \"+ Text\" buttons new the top left of the notebook. You can move each block around using the up and down arrows near the top right corner of each block. And you can delete blocks by using the little trash can symbol, also near the top right corner of each block. Try adding a couple of blocks of each kind to a notebook, move them around a bit, and delete them again."
      ]
    },
    {
      "cell_type": "markdown",
      "metadata": {
        "id": "_7pK4rUcwI_T"
      },
      "source": [
        "There are fancier things you can do with markdown and notebooks of course, like uploading them to github so you can share them with the world. See this \\[[Pandas tutorial notebook](https://github.com/Tanu-N-Prabhu/Python/blob/master/Pandas/Pandas_DataFrame.ipynb)] for a good example that also introduces you to pandas, a very useful Python library. To follow along with the examples in the rest of this course, you will need to be minimally familiar with notebooks, so it’s well worth your time to play around a bit with them, add and delete some cells, write some simple code (e.g. print statements), and play with the things you can do with markdown.\r\n",
        "\r\n",
        "There is also much more to writing good code than commenting, but this is a good start. We'll work more on that in the coming chapters.\r\n"
      ]
    },
    {
      "cell_type": "markdown",
      "metadata": {
        "id": "GvXO6hFYwl3L"
      },
      "source": [
        "## Variables in Python\r\n",
        "Simple print statements aside, almost all of the useful things you can do with programming relies on the use of variables. You can think of variables as labeled boxes; each variable has a name (the label) and a value (the content of the box). The name cannot change (let’s say it’s written with a permanent marker), but the value can (because you can put stuff in and take stuff out of the box). Variables are useful in programming because referring to the variable name allows you to use the variable value. An example will help to illustrate it why this is useful. Imagine I create a variable named classSize. As of today’s date there are 41 students enrolled in your class, so that will be the value of that variable. Practically, I do it this way:"
      ]
    },
    {
      "cell_type": "code",
      "metadata": {
        "id": "ktsEEA2ywp6Z"
      },
      "source": [
        "classSize = 41"
      ],
      "execution_count": null,
      "outputs": []
    },
    {
      "cell_type": "markdown",
      "metadata": {
        "id": "C9I3g_jFwr45"
      },
      "source": [
        "**Note that variable names can’t contain spaces, and they are case sensitive**, meaning that the variable “hat” is different from the variable “Hat”. I tend to structure my variable names as shown above, using uppercase letters to indicate a new word. I think “classSize” is easier and faster to read than “classsize”. Others used underscores, so the name would be “class_size”. It’s up to you, just make sure to be consistent.\r\n",
        "\r\n",
        "If someone drops the course, I could decrease the value of my variable with the following statement:\r\n"
      ]
    },
    {
      "cell_type": "code",
      "metadata": {
        "id": "WvPcLJWQwuni"
      },
      "source": [
        "classSize = classSize - 1"
      ],
      "execution_count": null,
      "outputs": []
    },
    {
      "cell_type": "markdown",
      "metadata": {
        "id": "T45qi0m7wyWx"
      },
      "source": [
        "Note that the above also illustrates that Colab remembers variable from one code block to another. This lets you write some code and execute it, then write some more comments, and then keep coding in a different block. Just be careful to execute code blocks in the right order!\r\n",
        "\r\n",
        "Python statements like this, using an equal sign, are called **variable assignment**, and they take whatever is on the right side of the equal sign and make it the new value of the variable named on the left side of the equal sign. So, to decipher the above statement, start with what is on the right side of equal sign. There is the variable classSize, whose value is 41, and then there is a mathematical operation that subtracts 1 from that. The result, 40, is then put into the variable named left of the equal sign. The effect of this is to subtract one from the previous value of classSize. The beauty of writing:"
      ]
    },
    {
      "cell_type": "code",
      "metadata": {
        "id": "5ktRrqUhw3YJ"
      },
      "source": [
        "classSize = classSize - 1"
      ],
      "execution_count": null,
      "outputs": []
    },
    {
      "cell_type": "markdown",
      "metadata": {
        "id": "_L7pQ8Ziw5J5"
      },
      "source": [
        "instead of"
      ]
    },
    {
      "cell_type": "code",
      "metadata": {
        "id": "dhOr2JH7w7ZJ"
      },
      "source": [
        "classSize = 40"
      ],
      "execution_count": null,
      "outputs": []
    },
    {
      "cell_type": "markdown",
      "metadata": {
        "id": "hXkLHpJWw775"
      },
      "source": [
        "is that with the former expression I don’t need to know what the number of enrolled students is, all I need to know is that someone dropped the course and Python calculates the new class size for me."
      ]
    },
    {
      "cell_type": "code",
      "metadata": {
        "id": "TD_feFYSxF5q"
      },
      "source": [
        "print(classSize)"
      ],
      "execution_count": null,
      "outputs": []
    },
    {
      "cell_type": "markdown",
      "metadata": {
        "id": "KEc1znKhxCpJ"
      },
      "source": [
        "Note that the print statement can be used to print the values of variables, which is often helpful for you to figure out what the value of a given variable is at a given point in your code. Also note that the printed value of classSize is 40 as expected.\r\n",
        "\r\n",
        "Python uses different types of variables to hold different kinds of data, and the python interpreter will automatically assign a variable type to your variable based on the first value you give them. The most commonly used variable types in Python are:\r\n",
        "* **String**: A sequence of text. Note that both \"Hello World\" and \"123\" are examples of strings because they are surrounded by quotation marks.\r\n",
        "*\t**Integer**: A whole number, positive or negative (i.e. not a decimal or fraction). So 123 is an integer, while \"123\" is a string.\r\n",
        "*\t**Float**: A decimal number, positive or negative.\r\n",
        "*\t**Array**: A structured sequence of numbers (integers or floats, but not both) in 1 or more dimensions. For example, (1, 5, 3) is a one-dimensional array with three numbers, while ((2, 4), (4, 1)) is a two-dimensional array with two rows and two columns. Note that arrays can have any number of dimensions allowed by the available memory in your computer – thinking of rows and columns is convenient for a two-dimensional array, but it becomes a lot more difficult with higher-dimensional arrays. Also note that use of arrays in Python is based on the NumPy library; we will get into the more in the next chapter.\r\n",
        "*\t**List**: A one-dimensional sequence of other variables. An example of a list is [\"Hello World\", 123, 0.5, (1, 6, 13)]. That list contains one of each of the other types of variables.\r\n",
        "*\t**Dictionary**: Like a list, but where each element is named. An example is {\"Make\": \"Toyota\", \"Model\": \"Prius\"}\r\n",
        "\r\n",
        "Variable types are important because some operations can be carried out only on some types of variables, and some operations work differently on different types of variables. So you have to know what type of variable you are dealing with. We will look a lot more at the different kinds of variables in the next chapter.\r\n",
        "\r\n",
        "Try to run the example below, and explain to yourself or the person sitting next to you what the difference is between the two kinds of “addition”:\r\n"
      ]
    },
    {
      "cell_type": "code",
      "metadata": {
        "id": "obhmAbr4ywSc"
      },
      "source": [
        "aString = \"2\"\r\n",
        "anotherString = \"3\"\r\n",
        "print(aString + anotherString)\r\n",
        "\r\n",
        "aNumber = 2\r\n",
        "anotherNumber = 3\r\n",
        "print(aNumber + anotherNumber)"
      ],
      "execution_count": null,
      "outputs": []
    },
    {
      "cell_type": "markdown",
      "metadata": {
        "id": "7XQ-hK1LzCR5"
      },
      "source": [
        "Note that the above print statements work because **both** aString and anotherString are string, and **both** anumber and anotherNumber are numbers. If you try to print a string and a number together, you will need to first convert the number to a string. Compare the result of running the two code blocks below to see why."
      ]
    },
    {
      "cell_type": "code",
      "metadata": {
        "id": "hX90DDBL1UC8"
      },
      "source": [
        "print(aString + aNumber)"
      ],
      "execution_count": null,
      "outputs": []
    },
    {
      "cell_type": "code",
      "metadata": {
        "id": "14NZDfnf1UNK"
      },
      "source": [
        "print(aString + str(aNumber))"
      ],
      "execution_count": null,
      "outputs": []
    },
    {
      "cell_type": "markdown",
      "metadata": {
        "id": "ikqpxlBr1bL3"
      },
      "source": [
        "Of course if you actually wanted to do the addition properly you need to do it with both variables being **numbers**. So you would instead first use the 'int' function to convert aString to a number:"
      ]
    },
    {
      "cell_type": "code",
      "metadata": {
        "id": "vlO6tq5Q1jx0"
      },
      "source": [
        "aStringAsNumber = int(aString)\r\n",
        "print(aStringAsNumber + aNumber)"
      ],
      "execution_count": null,
      "outputs": []
    },
    {
      "cell_type": "markdown",
      "metadata": {
        "id": "15XJugDs1Gn2"
      },
      "source": [
        "If you are ever in doubt about what type a certain variable is, you can use the 'type' command, whcih will give you a result like: 'str' (for string), or 'int' (for integer), 'float' (for float), or 'list' (for list), or 'dict' (for dictionary). It works like this:"
      ]
    },
    {
      "cell_type": "code",
      "metadata": {
        "id": "yC5oJZl4zJoj"
      },
      "source": [
        "type(classSize)"
      ],
      "execution_count": null,
      "outputs": []
    },
    {
      "cell_type": "markdown",
      "metadata": {
        "id": "PcNFXi-Szlj8"
      },
      "source": [
        "Good job getting through Chapter 1! We will end each chapter with a little exercise, to help reinforce your learning of the material.\r\n",
        "## Exercise\r\n",
        "1\\) Create a new notebook\r\n",
        "\r\n",
        "2\\) Create a text block, and move it to the top of the code block.\r\n",
        "\r\n",
        "3\\) Write a comment in the text block, and try a bit of formatting. To get some examples of how to format your text you can re-read the \\[[Guide to Markdown](https://colab.research.google.com/notebooks/markdown_guide.ipynb#)]. You can also double-click on some of the text blocks in this chapter to see how they were formatted.\r\n",
        "\r\n",
        "4\\) Try to write some code that creates the following string variables, and then prints them:\r\n",
        "* Your name:\r\n",
        "* Your birthday:\r\n",
        "* Your occupation:\r\n",
        "\r\n",
        "For example if the variable that contains your name is 'myName', you can use statements like print(\"My name is \" + myName) to make it looks a bit nicer than just print(myName). See example below:"
      ]
    },
    {
      "cell_type": "code",
      "metadata": {
        "id": "c_3aHFqWTWDx"
      },
      "source": [
        "myName = \"Anders\"\r\n",
        "print(\"My name is \" + myName)"
      ],
      "execution_count": null,
      "outputs": []
    }
  ]
}
