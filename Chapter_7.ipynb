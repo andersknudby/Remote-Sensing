{
  "nbformat": 4,
  "nbformat_minor": 0,
  "metadata": {
    "colab": {
      "name": "Chapter 7.ipynb",
      "provenance": [],
      "collapsed_sections": [],
      "authorship_tag": "ABX9TyOT21WSB3ncQg+PAnINRg+E",
      "include_colab_link": true
    },
    "kernelspec": {
      "name": "python3",
      "display_name": "Python 3"
    }
  },
  "cells": [
    {
      "cell_type": "markdown",
      "metadata": {
        "id": "view-in-github",
        "colab_type": "text"
      },
      "source": [
        "<a href=\"https://colab.research.google.com/github/andersknudby/Remote-Sensing/blob/master/Chapter_7.ipynb\" target=\"_parent\"><img src=\"https://colab.research.google.com/assets/colab-badge.svg\" alt=\"Open In Colab\"/></a>"
      ]
    },
    {
      "cell_type": "markdown",
      "metadata": {
        "id": "U1D0DubEBPrZ"
      },
      "source": [
        "#Chapter 7 - Working with vector data\r\n",
        "This chapter will help you learn how to read and write vector data, and how to work with vector data and image data in combination - specifically how to extract values from a raster for locations indeitifed in the vector file. Working with vector data in Python is in some ways similar to working with raster data – GDAL provides a core structure that includes a dataset with properties, and the dataset can include a number of layers, layers contain features, and features have attributes (like the ones you see in the attribute table for any shapefile when you open it in a GIS software). On top of GDAL, several other Python libraries have been created to make handling vector data easier and quicker. To start with we need to get rasterio again, and also a library called geopandas"
      ]
    },
    {
      "cell_type": "code",
      "metadata": {
        "colab": {
          "base_uri": "https://localhost:8080/"
        },
        "id": "xycMu1E5tdr3",
        "outputId": "bba5255d-df6c-4cf6-8c2c-98a332cb322e"
      },
      "source": [
        "!pip install rasterio\r\n",
        "!pip install geopandas\r\n",
        "\r\n",
        "from shapely.geometry import Point\r\n",
        "import rasterio\r\n",
        "import geopandas as gpd"
      ],
      "execution_count": null,
      "outputs": [
        {
          "output_type": "stream",
          "text": [
            "Requirement already satisfied: rasterio in /usr/local/lib/python3.6/dist-packages (1.1.8)\n",
            "Requirement already satisfied: affine in /usr/local/lib/python3.6/dist-packages (from rasterio) (2.3.0)\n",
            "Requirement already satisfied: cligj>=0.5 in /usr/local/lib/python3.6/dist-packages (from rasterio) (0.7.1)\n",
            "Requirement already satisfied: attrs in /usr/local/lib/python3.6/dist-packages (from rasterio) (20.3.0)\n",
            "Requirement already satisfied: snuggs>=1.4.1 in /usr/local/lib/python3.6/dist-packages (from rasterio) (1.4.7)\n",
            "Requirement already satisfied: click-plugins in /usr/local/lib/python3.6/dist-packages (from rasterio) (1.1.1)\n",
            "Requirement already satisfied: click<8,>=4.0 in /usr/local/lib/python3.6/dist-packages (from rasterio) (7.1.2)\n",
            "Requirement already satisfied: numpy in /usr/local/lib/python3.6/dist-packages (from rasterio) (1.19.4)\n",
            "Requirement already satisfied: pyparsing>=2.1.6 in /usr/local/lib/python3.6/dist-packages (from snuggs>=1.4.1->rasterio) (2.4.7)\n",
            "Requirement already satisfied: geopandas in /usr/local/lib/python3.6/dist-packages (0.8.1)\n",
            "Requirement already satisfied: shapely in /usr/local/lib/python3.6/dist-packages (from geopandas) (1.7.1)\n",
            "Requirement already satisfied: pyproj>=2.2.0 in /usr/local/lib/python3.6/dist-packages (from geopandas) (3.0.0.post1)\n",
            "Requirement already satisfied: pandas>=0.23.0 in /usr/local/lib/python3.6/dist-packages (from geopandas) (1.1.5)\n",
            "Requirement already satisfied: fiona in /usr/local/lib/python3.6/dist-packages (from geopandas) (1.8.18)\n",
            "Requirement already satisfied: certifi in /usr/local/lib/python3.6/dist-packages (from pyproj>=2.2.0->geopandas) (2020.12.5)\n",
            "Requirement already satisfied: python-dateutil>=2.7.3 in /usr/local/lib/python3.6/dist-packages (from pandas>=0.23.0->geopandas) (2.8.1)\n",
            "Requirement already satisfied: numpy>=1.15.4 in /usr/local/lib/python3.6/dist-packages (from pandas>=0.23.0->geopandas) (1.19.4)\n",
            "Requirement already satisfied: pytz>=2017.2 in /usr/local/lib/python3.6/dist-packages (from pandas>=0.23.0->geopandas) (2018.9)\n",
            "Requirement already satisfied: munch in /usr/local/lib/python3.6/dist-packages (from fiona->geopandas) (2.5.0)\n",
            "Requirement already satisfied: attrs>=17 in /usr/local/lib/python3.6/dist-packages (from fiona->geopandas) (20.3.0)\n",
            "Requirement already satisfied: cligj>=0.5 in /usr/local/lib/python3.6/dist-packages (from fiona->geopandas) (0.7.1)\n",
            "Requirement already satisfied: click<8,>=4.0 in /usr/local/lib/python3.6/dist-packages (from fiona->geopandas) (7.1.2)\n",
            "Requirement already satisfied: click-plugins>=1.0 in /usr/local/lib/python3.6/dist-packages (from fiona->geopandas) (1.1.1)\n",
            "Requirement already satisfied: six>=1.7 in /usr/local/lib/python3.6/dist-packages (from fiona->geopandas) (1.15.0)\n"
          ],
          "name": "stdout"
        }
      ]
    },
    {
      "cell_type": "markdown",
      "metadata": {
        "id": "-UXMm7pavT9Y"
      },
      "source": [
        "As usual, we also need to give Colab access to some files on our Google Drive:"
      ]
    },
    {
      "cell_type": "code",
      "metadata": {
        "id": "NMjraSktA85P",
        "colab": {
          "base_uri": "https://localhost:8080/"
        },
        "outputId": "e9fee3f1-3be5-4bc6-e2cd-717d41521cb9"
      },
      "source": [
        "from google.colab import drive\r\n",
        "drive.mount('/content/drive')\r\n",
        "\r\n",
        "myDir = '/content/drive/My Drive/Python files/'\r\n",
        "\r\n",
        "import os\r\n",
        "if os.path.exists(myDir + 'sfu.tif'):\r\n",
        "  print(\"Drive mounted and directory found\")\r\n",
        "else:\r\n",
        "  print(\"No access to the files\")"
      ],
      "execution_count": null,
      "outputs": [
        {
          "output_type": "stream",
          "text": [
            "Mounted at /content/drive\n",
            "Drive mounted and directory found\n"
          ],
          "name": "stdout"
        }
      ]
    },
    {
      "cell_type": "markdown",
      "metadata": {
        "id": "TlOSTHCovakQ"
      },
      "source": [
        "Ok, that was the setup. On the Google Drive, in the Python files folder, there's a file called 'points.shp'. If you open it in QGIS you'll see that it's just six points, and if you overlay them on the sfu.tif image you'll see that they all fall inside that image, and that the two files have the same coordinate reference system, so overlaying them is straight-forward. but we can also very easily open the points.shp file here:"
      ]
    },
    {
      "cell_type": "code",
      "metadata": {
        "colab": {
          "base_uri": "https://localhost:8080/",
          "height": 235
        },
        "id": "mzt_wiNft6z-",
        "outputId": "b74ba326-f295-4782-ccca-6562dfd8b83e"
      },
      "source": [
        "pointsFilename = myDir + \"points.shp\"\r\n",
        "pts = gpd.read_file(pointsFilename)  # I often use 'pts' as short for 'points' This is fairly common.\r\n",
        "pts"
      ],
      "execution_count": null,
      "outputs": [
        {
          "output_type": "execute_result",
          "data": {
            "text/html": [
              "<div>\n",
              "<style scoped>\n",
              "    .dataframe tbody tr th:only-of-type {\n",
              "        vertical-align: middle;\n",
              "    }\n",
              "\n",
              "    .dataframe tbody tr th {\n",
              "        vertical-align: top;\n",
              "    }\n",
              "\n",
              "    .dataframe thead th {\n",
              "        text-align: right;\n",
              "    }\n",
              "</style>\n",
              "<table border=\"1\" class=\"dataframe\">\n",
              "  <thead>\n",
              "    <tr style=\"text-align: right;\">\n",
              "      <th></th>\n",
              "      <th>LandCover</th>\n",
              "      <th>Altitude</th>\n",
              "      <th>geometry</th>\n",
              "    </tr>\n",
              "  </thead>\n",
              "  <tbody>\n",
              "    <tr>\n",
              "      <th>0</th>\n",
              "      <td>Forest</td>\n",
              "      <td>287</td>\n",
              "      <td>POINT (506722.856 5458623.040)</td>\n",
              "    </tr>\n",
              "    <tr>\n",
              "      <th>1</th>\n",
              "      <td>Forest</td>\n",
              "      <td>275</td>\n",
              "      <td>POINT (506902.335 5458647.466)</td>\n",
              "    </tr>\n",
              "    <tr>\n",
              "      <th>2</th>\n",
              "      <td>Forest</td>\n",
              "      <td>280</td>\n",
              "      <td>POINT (506706.926 5458652.776)</td>\n",
              "    </tr>\n",
              "    <tr>\n",
              "      <th>3</th>\n",
              "      <td>Parking lot</td>\n",
              "      <td>290</td>\n",
              "      <td>POINT (506693.651 5458566.223)</td>\n",
              "    </tr>\n",
              "    <tr>\n",
              "      <th>4</th>\n",
              "      <td>Parking lot</td>\n",
              "      <td>290</td>\n",
              "      <td>POINT (506707.988 5458563.037)</td>\n",
              "    </tr>\n",
              "    <tr>\n",
              "      <th>5</th>\n",
              "      <td>Parking lot</td>\n",
              "      <td>291</td>\n",
              "      <td>POINT (506728.166 5458552.417)</td>\n",
              "    </tr>\n",
              "  </tbody>\n",
              "</table>\n",
              "</div>"
            ],
            "text/plain": [
              "     LandCover  Altitude                        geometry\n",
              "0       Forest       287  POINT (506722.856 5458623.040)\n",
              "1       Forest       275  POINT (506902.335 5458647.466)\n",
              "2       Forest       280  POINT (506706.926 5458652.776)\n",
              "3  Parking lot       290  POINT (506693.651 5458566.223)\n",
              "4  Parking lot       290  POINT (506707.988 5458563.037)\n",
              "5  Parking lot       291  POINT (506728.166 5458552.417)"
            ]
          },
          "metadata": {
            "tags": []
          },
          "execution_count": 117
        }
      ]
    },
    {
      "cell_type": "markdown",
      "metadata": {
        "id": "48IukZ7MwRmI"
      },
      "source": [
        "Easy, right? The 'pts' variable is an object called a **geodataframe**, which corresponds quite closely to the attribute table of the shapefile - each point is stored as a 'feature' in a row, and each attribute is stored in a column.\r\n",
        "\r\n",
        "A **geodataframe** is based on a smaller kind of object from the pandas library, called a **dataframe**. But what makes a geodataframe special is that is always had geographic information associated with it, in the 'geometry' attribute. In the 'pts' data set you'll see that this information contains the label 'POINT', as well as the x and y coordinates of each point.\r\n",
        "\r\n",
        "We can get some basic informatino about this geodataframe:"
      ]
    },
    {
      "cell_type": "code",
      "metadata": {
        "colab": {
          "base_uri": "https://localhost:8080/"
        },
        "id": "6HZolmMVBLsI",
        "outputId": "452754f4-83d3-4b7b-d4e0-ccfa740d85c3"
      },
      "source": [
        "print(\"Number of rows:\", len(pts))\r\n",
        "pts.crs"
      ],
      "execution_count": null,
      "outputs": [
        {
          "output_type": "stream",
          "text": [
            "Number of rows: 7\n"
          ],
          "name": "stdout"
        },
        {
          "output_type": "execute_result",
          "data": {
            "text/plain": [
              "<Projected CRS: EPSG:32610>\n",
              "Name: WGS 84 / UTM zone 10N\n",
              "Axis Info [cartesian]:\n",
              "- E[east]: Easting (metre)\n",
              "- N[north]: Northing (metre)\n",
              "Area of Use:\n",
              "- name: Between 126°W and 120°W, northern hemisphere between equator and 84°N, onshore and offshore. Canada - British Columbia (BC); Northwest Territories (NWT); Nunavut; Yukon. United States (USA) - Alaska (AK).\n",
              "- bounds: (-126.0, 0.0, -120.0, 84.0)\n",
              "Coordinate Operation:\n",
              "- name: UTM zone 10N\n",
              "- method: Transverse Mercator\n",
              "Datum: World Geodetic System 1984\n",
              "- Ellipsoid: WGS 84\n",
              "- Prime Meridian: Greenwich"
            ]
          },
          "metadata": {
            "tags": []
          },
          "execution_count": 128
        }
      ]
    },
    {
      "cell_type": "markdown",
      "metadata": {
        "id": "ZaMjtq3EyAoJ"
      },
      "source": [
        "You can work with geodataframes in may ways; here we will just look at some common ways to manipulate them.\r\n",
        "\r\n",
        "If you want to remove a column, you can use the drop function:"
      ]
    },
    {
      "cell_type": "code",
      "metadata": {
        "colab": {
          "base_uri": "https://localhost:8080/",
          "height": 235
        },
        "id": "rK0Y2jCewUtW",
        "outputId": "aa7f5e7e-2ab3-47ad-9698-cee7ed132dde"
      },
      "source": [
        "pts = pts.drop(['LandCover'], axis=1)\r\n",
        "pts"
      ],
      "execution_count": null,
      "outputs": [
        {
          "output_type": "execute_result",
          "data": {
            "text/html": [
              "<div>\n",
              "<style scoped>\n",
              "    .dataframe tbody tr th:only-of-type {\n",
              "        vertical-align: middle;\n",
              "    }\n",
              "\n",
              "    .dataframe tbody tr th {\n",
              "        vertical-align: top;\n",
              "    }\n",
              "\n",
              "    .dataframe thead th {\n",
              "        text-align: right;\n",
              "    }\n",
              "</style>\n",
              "<table border=\"1\" class=\"dataframe\">\n",
              "  <thead>\n",
              "    <tr style=\"text-align: right;\">\n",
              "      <th></th>\n",
              "      <th>Altitude</th>\n",
              "      <th>geometry</th>\n",
              "    </tr>\n",
              "  </thead>\n",
              "  <tbody>\n",
              "    <tr>\n",
              "      <th>0</th>\n",
              "      <td>287</td>\n",
              "      <td>POINT (506722.856 5458623.040)</td>\n",
              "    </tr>\n",
              "    <tr>\n",
              "      <th>1</th>\n",
              "      <td>275</td>\n",
              "      <td>POINT (506902.335 5458647.466)</td>\n",
              "    </tr>\n",
              "    <tr>\n",
              "      <th>2</th>\n",
              "      <td>280</td>\n",
              "      <td>POINT (506706.926 5458652.776)</td>\n",
              "    </tr>\n",
              "    <tr>\n",
              "      <th>3</th>\n",
              "      <td>290</td>\n",
              "      <td>POINT (506693.651 5458566.223)</td>\n",
              "    </tr>\n",
              "    <tr>\n",
              "      <th>4</th>\n",
              "      <td>290</td>\n",
              "      <td>POINT (506707.988 5458563.037)</td>\n",
              "    </tr>\n",
              "    <tr>\n",
              "      <th>5</th>\n",
              "      <td>291</td>\n",
              "      <td>POINT (506728.166 5458552.417)</td>\n",
              "    </tr>\n",
              "  </tbody>\n",
              "</table>\n",
              "</div>"
            ],
            "text/plain": [
              "   Altitude                        geometry\n",
              "0       287  POINT (506722.856 5458623.040)\n",
              "1       275  POINT (506902.335 5458647.466)\n",
              "2       280  POINT (506706.926 5458652.776)\n",
              "3       290  POINT (506693.651 5458566.223)\n",
              "4       290  POINT (506707.988 5458563.037)\n",
              "5       291  POINT (506728.166 5458552.417)"
            ]
          },
          "metadata": {
            "tags": []
          },
          "execution_count": 118
        }
      ]
    },
    {
      "cell_type": "markdown",
      "metadata": {
        "id": "UMAqhtk0yWFk"
      },
      "source": [
        "And if you want to add a column you can do it like this:"
      ]
    },
    {
      "cell_type": "code",
      "metadata": {
        "colab": {
          "base_uri": "https://localhost:8080/",
          "height": 235
        },
        "id": "pBCs6N80yfkr",
        "outputId": "1d2a1fff-e91f-4761-9a81-75bee195a28d"
      },
      "source": [
        "owner = ['SFU', 'SFU', 'SFU', 'SFU', 'SFU', 'SFU']\r\n",
        "pts['Owner'] = owner\r\n",
        "pts"
      ],
      "execution_count": null,
      "outputs": [
        {
          "output_type": "execute_result",
          "data": {
            "text/html": [
              "<div>\n",
              "<style scoped>\n",
              "    .dataframe tbody tr th:only-of-type {\n",
              "        vertical-align: middle;\n",
              "    }\n",
              "\n",
              "    .dataframe tbody tr th {\n",
              "        vertical-align: top;\n",
              "    }\n",
              "\n",
              "    .dataframe thead th {\n",
              "        text-align: right;\n",
              "    }\n",
              "</style>\n",
              "<table border=\"1\" class=\"dataframe\">\n",
              "  <thead>\n",
              "    <tr style=\"text-align: right;\">\n",
              "      <th></th>\n",
              "      <th>Altitude</th>\n",
              "      <th>geometry</th>\n",
              "      <th>Owner</th>\n",
              "    </tr>\n",
              "  </thead>\n",
              "  <tbody>\n",
              "    <tr>\n",
              "      <th>0</th>\n",
              "      <td>287</td>\n",
              "      <td>POINT (506722.856 5458623.040)</td>\n",
              "      <td>SFU</td>\n",
              "    </tr>\n",
              "    <tr>\n",
              "      <th>1</th>\n",
              "      <td>275</td>\n",
              "      <td>POINT (506902.335 5458647.466)</td>\n",
              "      <td>SFU</td>\n",
              "    </tr>\n",
              "    <tr>\n",
              "      <th>2</th>\n",
              "      <td>280</td>\n",
              "      <td>POINT (506706.926 5458652.776)</td>\n",
              "      <td>SFU</td>\n",
              "    </tr>\n",
              "    <tr>\n",
              "      <th>3</th>\n",
              "      <td>290</td>\n",
              "      <td>POINT (506693.651 5458566.223)</td>\n",
              "      <td>SFU</td>\n",
              "    </tr>\n",
              "    <tr>\n",
              "      <th>4</th>\n",
              "      <td>290</td>\n",
              "      <td>POINT (506707.988 5458563.037)</td>\n",
              "      <td>SFU</td>\n",
              "    </tr>\n",
              "    <tr>\n",
              "      <th>5</th>\n",
              "      <td>291</td>\n",
              "      <td>POINT (506728.166 5458552.417)</td>\n",
              "      <td>SFU</td>\n",
              "    </tr>\n",
              "  </tbody>\n",
              "</table>\n",
              "</div>"
            ],
            "text/plain": [
              "   Altitude                        geometry Owner\n",
              "0       287  POINT (506722.856 5458623.040)   SFU\n",
              "1       275  POINT (506902.335 5458647.466)   SFU\n",
              "2       280  POINT (506706.926 5458652.776)   SFU\n",
              "3       290  POINT (506693.651 5458566.223)   SFU\n",
              "4       290  POINT (506707.988 5458563.037)   SFU\n",
              "5       291  POINT (506728.166 5458552.417)   SFU"
            ]
          },
          "metadata": {
            "tags": []
          },
          "execution_count": 119
        }
      ]
    },
    {
      "cell_type": "markdown",
      "metadata": {
        "id": "C3hIhuqqzDHw"
      },
      "source": [
        "Similarly, if you want to remove the first row:"
      ]
    },
    {
      "cell_type": "code",
      "metadata": {
        "colab": {
          "base_uri": "https://localhost:8080/",
          "height": 204
        },
        "id": "lrW8K3JXzFYv",
        "outputId": "ddd0fd8c-cb1b-4511-dd61-f62eb7506b70"
      },
      "source": [
        "pts = pts.drop([0])\r\n",
        "pts"
      ],
      "execution_count": null,
      "outputs": [
        {
          "output_type": "execute_result",
          "data": {
            "text/html": [
              "<div>\n",
              "<style scoped>\n",
              "    .dataframe tbody tr th:only-of-type {\n",
              "        vertical-align: middle;\n",
              "    }\n",
              "\n",
              "    .dataframe tbody tr th {\n",
              "        vertical-align: top;\n",
              "    }\n",
              "\n",
              "    .dataframe thead th {\n",
              "        text-align: right;\n",
              "    }\n",
              "</style>\n",
              "<table border=\"1\" class=\"dataframe\">\n",
              "  <thead>\n",
              "    <tr style=\"text-align: right;\">\n",
              "      <th></th>\n",
              "      <th>Altitude</th>\n",
              "      <th>geometry</th>\n",
              "      <th>Owner</th>\n",
              "    </tr>\n",
              "  </thead>\n",
              "  <tbody>\n",
              "    <tr>\n",
              "      <th>1</th>\n",
              "      <td>275</td>\n",
              "      <td>POINT (506902.335 5458647.466)</td>\n",
              "      <td>SFU</td>\n",
              "    </tr>\n",
              "    <tr>\n",
              "      <th>2</th>\n",
              "      <td>280</td>\n",
              "      <td>POINT (506706.926 5458652.776)</td>\n",
              "      <td>SFU</td>\n",
              "    </tr>\n",
              "    <tr>\n",
              "      <th>3</th>\n",
              "      <td>290</td>\n",
              "      <td>POINT (506693.651 5458566.223)</td>\n",
              "      <td>SFU</td>\n",
              "    </tr>\n",
              "    <tr>\n",
              "      <th>4</th>\n",
              "      <td>290</td>\n",
              "      <td>POINT (506707.988 5458563.037)</td>\n",
              "      <td>SFU</td>\n",
              "    </tr>\n",
              "    <tr>\n",
              "      <th>5</th>\n",
              "      <td>291</td>\n",
              "      <td>POINT (506728.166 5458552.417)</td>\n",
              "      <td>SFU</td>\n",
              "    </tr>\n",
              "  </tbody>\n",
              "</table>\n",
              "</div>"
            ],
            "text/plain": [
              "   Altitude                        geometry Owner\n",
              "1       275  POINT (506902.335 5458647.466)   SFU\n",
              "2       280  POINT (506706.926 5458652.776)   SFU\n",
              "3       290  POINT (506693.651 5458566.223)   SFU\n",
              "4       290  POINT (506707.988 5458563.037)   SFU\n",
              "5       291  POINT (506728.166 5458552.417)   SFU"
            ]
          },
          "metadata": {
            "tags": []
          },
          "execution_count": 120
        }
      ]
    },
    {
      "cell_type": "markdown",
      "metadata": {
        "id": "syHHtRBHzKu5"
      },
      "source": [
        "If you want to add a new row (or multiple rows) it gets a little more complicated, but not impossible:"
      ]
    },
    {
      "cell_type": "code",
      "metadata": {
        "colab": {
          "base_uri": "https://localhost:8080/",
          "height": 266
        },
        "id": "sTdB1_HEzNEI",
        "outputId": "88b9520e-2d09-4149-ae69-62e5a39f7cef"
      },
      "source": [
        "toAdd = [{'Altitude': 567, 'Owner': 'SFU', 'geometry': Point(506700, 5458600)},\r\n",
        "         {'Altitude': 234, 'Owner': 'SFU', 'geometry': Point(506696, 5458612)}]\r\n",
        "\r\n",
        "pts = pts.append(gpd.GeoDataFrame(toAdd))\r\n",
        "pts"
      ],
      "execution_count": null,
      "outputs": [
        {
          "output_type": "execute_result",
          "data": {
            "text/html": [
              "<div>\n",
              "<style scoped>\n",
              "    .dataframe tbody tr th:only-of-type {\n",
              "        vertical-align: middle;\n",
              "    }\n",
              "\n",
              "    .dataframe tbody tr th {\n",
              "        vertical-align: top;\n",
              "    }\n",
              "\n",
              "    .dataframe thead th {\n",
              "        text-align: right;\n",
              "    }\n",
              "</style>\n",
              "<table border=\"1\" class=\"dataframe\">\n",
              "  <thead>\n",
              "    <tr style=\"text-align: right;\">\n",
              "      <th></th>\n",
              "      <th>Altitude</th>\n",
              "      <th>geometry</th>\n",
              "      <th>Owner</th>\n",
              "    </tr>\n",
              "  </thead>\n",
              "  <tbody>\n",
              "    <tr>\n",
              "      <th>1</th>\n",
              "      <td>275</td>\n",
              "      <td>POINT (506902.335 5458647.466)</td>\n",
              "      <td>SFU</td>\n",
              "    </tr>\n",
              "    <tr>\n",
              "      <th>2</th>\n",
              "      <td>280</td>\n",
              "      <td>POINT (506706.926 5458652.776)</td>\n",
              "      <td>SFU</td>\n",
              "    </tr>\n",
              "    <tr>\n",
              "      <th>3</th>\n",
              "      <td>290</td>\n",
              "      <td>POINT (506693.651 5458566.223)</td>\n",
              "      <td>SFU</td>\n",
              "    </tr>\n",
              "    <tr>\n",
              "      <th>4</th>\n",
              "      <td>290</td>\n",
              "      <td>POINT (506707.988 5458563.037)</td>\n",
              "      <td>SFU</td>\n",
              "    </tr>\n",
              "    <tr>\n",
              "      <th>5</th>\n",
              "      <td>291</td>\n",
              "      <td>POINT (506728.166 5458552.417)</td>\n",
              "      <td>SFU</td>\n",
              "    </tr>\n",
              "    <tr>\n",
              "      <th>0</th>\n",
              "      <td>567</td>\n",
              "      <td>POINT (506700.000 5458600.000)</td>\n",
              "      <td>SFU</td>\n",
              "    </tr>\n",
              "    <tr>\n",
              "      <th>1</th>\n",
              "      <td>234</td>\n",
              "      <td>POINT (506696.000 5458612.000)</td>\n",
              "      <td>SFU</td>\n",
              "    </tr>\n",
              "  </tbody>\n",
              "</table>\n",
              "</div>"
            ],
            "text/plain": [
              "   Altitude                        geometry Owner\n",
              "1       275  POINT (506902.335 5458647.466)   SFU\n",
              "2       280  POINT (506706.926 5458652.776)   SFU\n",
              "3       290  POINT (506693.651 5458566.223)   SFU\n",
              "4       290  POINT (506707.988 5458563.037)   SFU\n",
              "5       291  POINT (506728.166 5458552.417)   SFU\n",
              "0       567  POINT (506700.000 5458600.000)   SFU\n",
              "1       234  POINT (506696.000 5458612.000)   SFU"
            ]
          },
          "metadata": {
            "tags": []
          },
          "execution_count": 121
        }
      ]
    },
    {
      "cell_type": "markdown",
      "metadata": {
        "id": "Ix7VcgfQCVw5"
      },
      "source": [
        "## Extract values from a raster to a points shapefile\r\n",
        "It is very common that you have a set up points, maybe location where you have been and observed something, and you want to extract values from a raster file at exactly those points. There are tools in ArcGIS and QGIS to do this, but it is also very easy to do with Python and geopandas. First we need to open the image file, as we did in the last chapter:"
      ]
    },
    {
      "cell_type": "code",
      "metadata": {
        "id": "FP1v5_UjCvxm"
      },
      "source": [
        "imageFilename = myDir + 'sfu.tif'\r\n",
        "ds = rasterio.open(imageFilename)  # ds is a commonly used shorthand for 'dataset'"
      ],
      "execution_count": null,
      "outputs": []
    },
    {
      "cell_type": "markdown",
      "metadata": {
        "id": "ymku-HA7C_Ie"
      },
      "source": [
        "Then we need to get all the (x,y) coordinates from the points shapefile. We can do that in a for loop, where we use i to iterate through the row numbers in pts. To do that we use the 'iloc' function, which returns the given row number from the geodataframe:"
      ]
    },
    {
      "cell_type": "code",
      "metadata": {
        "colab": {
          "base_uri": "https://localhost:8080/"
        },
        "id": "v99afQPZEVu_",
        "outputId": "d9da553f-b8bc-4bc9-ef62-955fd14cec2a"
      },
      "source": [
        "coords = []\r\n",
        "for i in range(len(pts)):\r\n",
        "  x = pts.iloc[i].geometry.x\r\n",
        "  y = pts.iloc[i].geometry.y\r\n",
        "  coords.append((x, y))\r\n",
        "coords"
      ],
      "execution_count": null,
      "outputs": [
        {
          "output_type": "execute_result",
          "data": {
            "text/plain": [
              "[(506902.3346581877, 5458647.466136725),\n",
              " (506706.926073132, 5458652.776152623),\n",
              " (506693.6510333864, 5458566.222893482),\n",
              " (506707.98807631165, 5458563.036883943),\n",
              " (506728.16613672505, 5458552.416852146),\n",
              " (506700.0, 5458600.0),\n",
              " (506696.0, 5458612.0)]"
            ]
          },
          "metadata": {
            "tags": []
          },
          "execution_count": 138
        }
      ]
    },
    {
      "cell_type": "markdown",
      "metadata": {
        "id": "GEqq3pQHFOoB"
      },
      "source": [
        "There are often other ways to do iterative things in Python than with a for loop. An alternative to the above is to use a list 'comprehension', which is more complex code to write, but requires fewer lines and executes faster. The result is exactly the same:"
      ]
    },
    {
      "cell_type": "code",
      "metadata": {
        "colab": {
          "base_uri": "https://localhost:8080/"
        },
        "id": "z_iDYX-kDC13",
        "outputId": "c905a269-f9b7-45bc-c409-cc2316956f00"
      },
      "source": [
        "coords = [(x, y) for x, y in zip(pts.geometry.x, pts.geometry.y)]\r\n",
        "coords"
      ],
      "execution_count": null,
      "outputs": [
        {
          "output_type": "execute_result",
          "data": {
            "text/plain": [
              "[(506902.3346581877, 5458647.466136725),\n",
              " (506706.926073132, 5458652.776152623),\n",
              " (506693.6510333864, 5458566.222893482),\n",
              " (506707.98807631165, 5458563.036883943),\n",
              " (506728.16613672505, 5458552.416852146),\n",
              " (506700.0, 5458600.0),\n",
              " (506696.0, 5458612.0)]"
            ]
          },
          "metadata": {
            "tags": []
          },
          "execution_count": 132
        }
      ]
    },
    {
      "cell_type": "markdown",
      "metadata": {
        "id": "x3ibZemqDej_"
      },
      "source": [
        "When we have the coordinates of all the points we can use the 'sample' function from rasterio to get the pixel values - in each band, for each of the point locations. For this we use another list comprehension. Remember that in our image the red bands was first, then green, and then blue. We need to feed that information as the 'indexes' argument to the sample function."
      ]
    },
    {
      "cell_type": "code",
      "metadata": {
        "colab": {
          "base_uri": "https://localhost:8080/",
          "height": 266
        },
        "id": "sKY0OsgjDtJO",
        "outputId": "48edaae0-20a1-41ea-ddaf-5dabc8bb9777"
      },
      "source": [
        "pts[\"red\"] = [x[0] for x in ds.sample(coords, indexes=1)]\r\n",
        "pts[\"green\"] = [x[0] for x in ds.sample(coords, indexes=2)]\r\n",
        "pts[\"blue\"] = [x[0] for x in ds.sample(coords, indexes=3)]\r\n",
        "pts"
      ],
      "execution_count": null,
      "outputs": [
        {
          "output_type": "execute_result",
          "data": {
            "text/html": [
              "<div>\n",
              "<style scoped>\n",
              "    .dataframe tbody tr th:only-of-type {\n",
              "        vertical-align: middle;\n",
              "    }\n",
              "\n",
              "    .dataframe tbody tr th {\n",
              "        vertical-align: top;\n",
              "    }\n",
              "\n",
              "    .dataframe thead th {\n",
              "        text-align: right;\n",
              "    }\n",
              "</style>\n",
              "<table border=\"1\" class=\"dataframe\">\n",
              "  <thead>\n",
              "    <tr style=\"text-align: right;\">\n",
              "      <th></th>\n",
              "      <th>Altitude</th>\n",
              "      <th>geometry</th>\n",
              "      <th>Owner</th>\n",
              "      <th>red</th>\n",
              "      <th>green</th>\n",
              "      <th>blue</th>\n",
              "    </tr>\n",
              "  </thead>\n",
              "  <tbody>\n",
              "    <tr>\n",
              "      <th>1</th>\n",
              "      <td>275</td>\n",
              "      <td>POINT (506902.335 5458647.466)</td>\n",
              "      <td>SFU</td>\n",
              "      <td>46</td>\n",
              "      <td>66</td>\n",
              "      <td>54</td>\n",
              "    </tr>\n",
              "    <tr>\n",
              "      <th>2</th>\n",
              "      <td>280</td>\n",
              "      <td>POINT (506706.926 5458652.776)</td>\n",
              "      <td>SFU</td>\n",
              "      <td>27</td>\n",
              "      <td>29</td>\n",
              "      <td>18</td>\n",
              "    </tr>\n",
              "    <tr>\n",
              "      <th>3</th>\n",
              "      <td>290</td>\n",
              "      <td>POINT (506693.651 5458566.223)</td>\n",
              "      <td>SFU</td>\n",
              "      <td>147</td>\n",
              "      <td>166</td>\n",
              "      <td>172</td>\n",
              "    </tr>\n",
              "    <tr>\n",
              "      <th>4</th>\n",
              "      <td>290</td>\n",
              "      <td>POINT (506707.988 5458563.037)</td>\n",
              "      <td>SFU</td>\n",
              "      <td>149</td>\n",
              "      <td>168</td>\n",
              "      <td>172</td>\n",
              "    </tr>\n",
              "    <tr>\n",
              "      <th>5</th>\n",
              "      <td>291</td>\n",
              "      <td>POINT (506728.166 5458552.417)</td>\n",
              "      <td>SFU</td>\n",
              "      <td>141</td>\n",
              "      <td>160</td>\n",
              "      <td>166</td>\n",
              "    </tr>\n",
              "    <tr>\n",
              "      <th>0</th>\n",
              "      <td>567</td>\n",
              "      <td>POINT (506700.000 5458600.000)</td>\n",
              "      <td>SFU</td>\n",
              "      <td>88</td>\n",
              "      <td>122</td>\n",
              "      <td>145</td>\n",
              "    </tr>\n",
              "    <tr>\n",
              "      <th>1</th>\n",
              "      <td>234</td>\n",
              "      <td>POINT (506696.000 5458612.000)</td>\n",
              "      <td>SFU</td>\n",
              "      <td>41</td>\n",
              "      <td>51</td>\n",
              "      <td>39</td>\n",
              "    </tr>\n",
              "  </tbody>\n",
              "</table>\n",
              "</div>"
            ],
            "text/plain": [
              "   Altitude                        geometry Owner  red  green  blue\n",
              "1       275  POINT (506902.335 5458647.466)   SFU   46     66    54\n",
              "2       280  POINT (506706.926 5458652.776)   SFU   27     29    18\n",
              "3       290  POINT (506693.651 5458566.223)   SFU  147    166   172\n",
              "4       290  POINT (506707.988 5458563.037)   SFU  149    168   172\n",
              "5       291  POINT (506728.166 5458552.417)   SFU  141    160   166\n",
              "0       567  POINT (506700.000 5458600.000)   SFU   88    122   145\n",
              "1       234  POINT (506696.000 5458612.000)   SFU   41     51    39"
            ]
          },
          "metadata": {
            "tags": []
          },
          "execution_count": 135
        }
      ]
    },
    {
      "cell_type": "markdown",
      "metadata": {
        "id": "Og8NvwqlGKO-"
      },
      "source": [
        "Now, this works nicely because our two coordinate systems - for the raster and the vector data - line up. But what if they didn't? In that case you should first reproject the one data set to match the crs of the other. Typically the easiest, and certainly the fastest, is to reproject the vector data, because the number of calculations needed to reproject the raster data is much greater. Let's give it a try, even if we don't need to with these two data sets.\r\n",
        "\r\n",
        "The first step is to actually test whether the two coordinate reference systems are the same. This could be done like this:"
      ]
    },
    {
      "cell_type": "code",
      "metadata": {
        "colab": {
          "base_uri": "https://localhost:8080/"
        },
        "id": "XXkdq9ejGlot",
        "outputId": "bad54ef7-4476-4685-8942-5d8a9c49d47f"
      },
      "source": [
        "epsgPoints = pts.crs.to_epsg()  # Get the EPSG number of the CRS of the vector data\r\n",
        "epsgRaster = ds.crs.to_epsg()  # Get the EPSG number of the CRS of the vector data\r\n",
        "epsgPoints == epsgRaster  # This tests whether the two EPSG numbers are the same."
      ],
      "execution_count": null,
      "outputs": [
        {
          "output_type": "execute_result",
          "data": {
            "text/plain": [
              "True"
            ]
          },
          "metadata": {
            "tags": []
          },
          "execution_count": 154
        }
      ]
    },
    {
      "cell_type": "markdown",
      "metadata": {
        "id": "rQuQyVQyIuqH"
      },
      "source": [
        "But ok, let's imagine that the raster data instead used EPSG 32609 (i.e. one UTM zone to the west). Then we would need to reproject the points to use the coordinates from that UTM zone instead:"
      ]
    },
    {
      "cell_type": "code",
      "metadata": {
        "id": "13HP0l-JHBpI"
      },
      "source": [
        "newPts = pts.to_crs(\"EPSG:32609\")"
      ],
      "execution_count": null,
      "outputs": []
    },
    {
      "cell_type": "markdown",
      "metadata": {
        "id": "f4lye4SDJjhm"
      },
      "source": [
        "Now we'll try to repeat what we did above, but with the reprojected data. I know it's wrong, but it can be interesting see what happens:"
      ]
    },
    {
      "cell_type": "code",
      "metadata": {
        "colab": {
          "base_uri": "https://localhost:8080/",
          "height": 266
        },
        "id": "CGeXmSmXJbOn",
        "outputId": "63b3690e-5297-478b-c127-7c2c7b134b4d"
      },
      "source": [
        "coords = [(x, y) for x, y in zip(newPts.geometry.x, newPts.geometry.y)]\r\n",
        "pts[\"red\"] = [x[0] for x in ds.sample(coords, indexes=1)]\r\n",
        "pts[\"green\"] = [x[0] for x in ds.sample(coords, indexes=2)]\r\n",
        "pts[\"blue\"] = [x[0] for x in ds.sample(coords, indexes=3)]\r\n",
        "pts"
      ],
      "execution_count": null,
      "outputs": [
        {
          "output_type": "execute_result",
          "data": {
            "text/html": [
              "<div>\n",
              "<style scoped>\n",
              "    .dataframe tbody tr th:only-of-type {\n",
              "        vertical-align: middle;\n",
              "    }\n",
              "\n",
              "    .dataframe tbody tr th {\n",
              "        vertical-align: top;\n",
              "    }\n",
              "\n",
              "    .dataframe thead th {\n",
              "        text-align: right;\n",
              "    }\n",
              "</style>\n",
              "<table border=\"1\" class=\"dataframe\">\n",
              "  <thead>\n",
              "    <tr style=\"text-align: right;\">\n",
              "      <th></th>\n",
              "      <th>Altitude</th>\n",
              "      <th>geometry</th>\n",
              "      <th>Owner</th>\n",
              "      <th>red</th>\n",
              "      <th>green</th>\n",
              "      <th>blue</th>\n",
              "    </tr>\n",
              "  </thead>\n",
              "  <tbody>\n",
              "    <tr>\n",
              "      <th>1</th>\n",
              "      <td>275</td>\n",
              "      <td>POINT (506902.335 5458647.466)</td>\n",
              "      <td>SFU</td>\n",
              "      <td>NaN</td>\n",
              "      <td>NaN</td>\n",
              "      <td>NaN</td>\n",
              "    </tr>\n",
              "    <tr>\n",
              "      <th>2</th>\n",
              "      <td>280</td>\n",
              "      <td>POINT (506706.926 5458652.776)</td>\n",
              "      <td>SFU</td>\n",
              "      <td>NaN</td>\n",
              "      <td>NaN</td>\n",
              "      <td>NaN</td>\n",
              "    </tr>\n",
              "    <tr>\n",
              "      <th>3</th>\n",
              "      <td>290</td>\n",
              "      <td>POINT (506693.651 5458566.223)</td>\n",
              "      <td>SFU</td>\n",
              "      <td>NaN</td>\n",
              "      <td>NaN</td>\n",
              "      <td>NaN</td>\n",
              "    </tr>\n",
              "    <tr>\n",
              "      <th>4</th>\n",
              "      <td>290</td>\n",
              "      <td>POINT (506707.988 5458563.037)</td>\n",
              "      <td>SFU</td>\n",
              "      <td>NaN</td>\n",
              "      <td>NaN</td>\n",
              "      <td>NaN</td>\n",
              "    </tr>\n",
              "    <tr>\n",
              "      <th>5</th>\n",
              "      <td>291</td>\n",
              "      <td>POINT (506728.166 5458552.417)</td>\n",
              "      <td>SFU</td>\n",
              "      <td>NaN</td>\n",
              "      <td>NaN</td>\n",
              "      <td>NaN</td>\n",
              "    </tr>\n",
              "    <tr>\n",
              "      <th>0</th>\n",
              "      <td>567</td>\n",
              "      <td>POINT (506700.000 5458600.000)</td>\n",
              "      <td>SFU</td>\n",
              "      <td>NaN</td>\n",
              "      <td>NaN</td>\n",
              "      <td>NaN</td>\n",
              "    </tr>\n",
              "    <tr>\n",
              "      <th>1</th>\n",
              "      <td>234</td>\n",
              "      <td>POINT (506696.000 5458612.000)</td>\n",
              "      <td>SFU</td>\n",
              "      <td>NaN</td>\n",
              "      <td>NaN</td>\n",
              "      <td>NaN</td>\n",
              "    </tr>\n",
              "  </tbody>\n",
              "</table>\n",
              "</div>"
            ],
            "text/plain": [
              "   Altitude                        geometry Owner  red  green  blue\n",
              "1       275  POINT (506902.335 5458647.466)   SFU  NaN    NaN   NaN\n",
              "2       280  POINT (506706.926 5458652.776)   SFU  NaN    NaN   NaN\n",
              "3       290  POINT (506693.651 5458566.223)   SFU  NaN    NaN   NaN\n",
              "4       290  POINT (506707.988 5458563.037)   SFU  NaN    NaN   NaN\n",
              "5       291  POINT (506728.166 5458552.417)   SFU  NaN    NaN   NaN\n",
              "0       567  POINT (506700.000 5458600.000)   SFU  NaN    NaN   NaN\n",
              "1       234  POINT (506696.000 5458612.000)   SFU  NaN    NaN   NaN"
            ]
          },
          "metadata": {
            "tags": []
          },
          "execution_count": 158
        }
      ]
    },
    {
      "cell_type": "markdown",
      "metadata": {
        "id": "k0D_h8MyJyyP"
      },
      "source": [
        "This is another example of a semantic error, and a difficult one to find at that. Python thinks everything went well, and all the NaN values we now see in newPts indicate that the image has no values associated with the locations of the points. But that's because the 'coords' now refer to a different CRS than the coordinates in the image, and the 'sample' function has no way of knowing that.\r\n",
        "\r\n",
        "**Important lesson:** It is up to you, when you write your code, to make sure that you check whether the coordinate reference systems of your data match! If they do not then Python may not show throw any errors, but your code may still be wrong!"
      ]
    },
    {
      "cell_type": "markdown",
      "metadata": {
        "id": "Bq_o9CoZKoep"
      },
      "source": [
        "The last thing we want to do is write the geodataframe back to a shapefile - given that we just did something wrong that is only going useful as an exercise:"
      ]
    },
    {
      "cell_type": "code",
      "metadata": {
        "id": "6pj13GW0K2s3"
      },
      "source": [
        "newPtsFilename = myDir + \"newPoints.shp\"\r\n",
        "newPts.to_file(newPtsFilename)"
      ],
      "execution_count": null,
      "outputs": []
    },
    {
      "cell_type": "markdown",
      "metadata": {
        "id": "ht5JmZSVLNSv"
      },
      "source": [
        "And of course we need to unmount and flush to get the files on to Google Drive:"
      ]
    },
    {
      "cell_type": "code",
      "metadata": {
        "id": "dpvgPVfvLSYA"
      },
      "source": [
        "drive.flush_and_unmount()"
      ],
      "execution_count": null,
      "outputs": []
    },
    {
      "cell_type": "markdown",
      "metadata": {
        "id": "GZKUvVGdLpOQ"
      },
      "source": [
        "##Exercise\r\n",
        "In a new notebook, write code that does the following:\r\n",
        "\r\n",
        "1\\) Read the 'sfu.tif' image.<br>\r\n",
        "2\\) Calculate the GCC of the image (see exercise from previous chapter).<br>\r\n",
        "3\\) Read the 'points.shp' file.<br>\r\n",
        "4\\) Extract the GCC value for each point.<br>\r\n",
        "5\\) Write the results as a new shapefile.<br>\r\n",
        "6\\) Open the original image and the new shapefile in QGIS, and check whether the points with the large GCC values are the ones located over vegetation.<br>\r\n"
      ]
    },
    {
      "cell_type": "markdown",
      "metadata": {
        "id": "2ZuRfnkmQk4G"
      },
      "source": [
        "## Extract values from a raster to a polygon shapefile \r\n",
        "Sometimes it can be more meaningful to work with polygons than points, and we can also use Python to extract values from rasters to polygon shapefiles. Generically this is often called 'Zonal Statistics'. To do that we will install and use another library, called 'rasterstats':"
      ]
    },
    {
      "cell_type": "code",
      "metadata": {
        "colab": {
          "base_uri": "https://localhost:8080/"
        },
        "id": "VxxglzrPRRmJ",
        "outputId": "a65e888b-026e-428b-b940-91be248ab91d"
      },
      "source": [
        "!pip install rasterstats\r\n",
        "import rasterstats"
      ],
      "execution_count": null,
      "outputs": [
        {
          "output_type": "stream",
          "text": [
            "Collecting rasterstats\n",
            "  Downloading https://files.pythonhosted.org/packages/9f/52/055b2b736e4aa1126c4619a561b44c3bc30fbe48025e6f3275b92928a0a0/rasterstats-0.15.0-py3-none-any.whl\n",
            "Requirement already satisfied: shapely in /usr/local/lib/python3.6/dist-packages (from rasterstats) (1.7.1)\n",
            "Requirement already satisfied: affine<3.0 in /usr/local/lib/python3.6/dist-packages (from rasterstats) (2.3.0)\n",
            "Requirement already satisfied: cligj>=0.4 in /usr/local/lib/python3.6/dist-packages (from rasterstats) (0.7.1)\n",
            "Requirement already satisfied: rasterio>=1.0 in /usr/local/lib/python3.6/dist-packages (from rasterstats) (1.1.8)\n",
            "Collecting simplejson\n",
            "\u001b[?25l  Downloading https://files.pythonhosted.org/packages/73/96/1e6b19045375890068d7342cbe280dd64ae73fd90b9735b5efb8d1e044a1/simplejson-3.17.2-cp36-cp36m-manylinux2010_x86_64.whl (127kB)\n",
            "\u001b[K     |████████████████████████████████| 133kB 5.9MB/s \n",
            "\u001b[?25hRequirement already satisfied: numpy>=1.9 in /usr/local/lib/python3.6/dist-packages (from rasterstats) (1.19.4)\n",
            "Requirement already satisfied: fiona in /usr/local/lib/python3.6/dist-packages (from rasterstats) (1.8.18)\n",
            "Requirement already satisfied: click<8,>=4.0 in /usr/local/lib/python3.6/dist-packages (from cligj>=0.4->rasterstats) (7.1.2)\n",
            "Requirement already satisfied: attrs in /usr/local/lib/python3.6/dist-packages (from rasterio>=1.0->rasterstats) (20.3.0)\n",
            "Requirement already satisfied: snuggs>=1.4.1 in /usr/local/lib/python3.6/dist-packages (from rasterio>=1.0->rasterstats) (1.4.7)\n",
            "Requirement already satisfied: click-plugins in /usr/local/lib/python3.6/dist-packages (from rasterio>=1.0->rasterstats) (1.1.1)\n",
            "Requirement already satisfied: six>=1.7 in /usr/local/lib/python3.6/dist-packages (from fiona->rasterstats) (1.15.0)\n",
            "Requirement already satisfied: munch in /usr/local/lib/python3.6/dist-packages (from fiona->rasterstats) (2.5.0)\n",
            "Requirement already satisfied: certifi in /usr/local/lib/python3.6/dist-packages (from fiona->rasterstats) (2020.12.5)\n",
            "Requirement already satisfied: pyparsing>=2.1.6 in /usr/local/lib/python3.6/dist-packages (from snuggs>=1.4.1->rasterio>=1.0->rasterstats) (2.4.7)\n",
            "Installing collected packages: simplejson, rasterstats\n",
            "Successfully installed rasterstats-0.15.0 simplejson-3.17.2\n"
          ],
          "name": "stdout"
        }
      ]
    },
    {
      "cell_type": "markdown",
      "metadata": {
        "id": "b-BbSpLGRU7W"
      },
      "source": [
        "As the raster file we can work with the 'sfu.tif' image that is already loaded. And as the polygon data we can work with the file name 'polygons.shp':"
      ]
    },
    {
      "cell_type": "code",
      "metadata": {
        "colab": {
          "base_uri": "https://localhost:8080/",
          "height": 176
        },
        "id": "zkCajwyDRree",
        "outputId": "4232b0c6-1eaf-4f1e-b6be-7402ceef01ee"
      },
      "source": [
        "from google.colab import drive\r\n",
        "drive.mount('/content/drive')\r\n",
        "\r\n",
        "myDir = '/content/drive/My Drive/Python files/'\r\n",
        "\r\n",
        "import os\r\n",
        "if os.path.exists(myDir + 'sfu.tif'):\r\n",
        "  print(\"Drive mounted and directory found\")\r\n",
        "else:\r\n",
        "  print(\"No access to the files\")\r\n",
        "\r\n",
        "polygonsFilename = myDir + \"polygons.shp\"\r\n",
        "polys = gpd.read_file(polygonsFilename)  # I often use 'pts' as short for 'points' This is fairly common.\r\n",
        "polys"
      ],
      "execution_count": null,
      "outputs": [
        {
          "output_type": "stream",
          "text": [
            "Mounted at /content/drive\n",
            "Drive mounted and directory found\n"
          ],
          "name": "stdout"
        },
        {
          "output_type": "execute_result",
          "data": {
            "text/html": [
              "<div>\n",
              "<style scoped>\n",
              "    .dataframe tbody tr th:only-of-type {\n",
              "        vertical-align: middle;\n",
              "    }\n",
              "\n",
              "    .dataframe tbody tr th {\n",
              "        vertical-align: top;\n",
              "    }\n",
              "\n",
              "    .dataframe thead th {\n",
              "        text-align: right;\n",
              "    }\n",
              "</style>\n",
              "<table border=\"1\" class=\"dataframe\">\n",
              "  <thead>\n",
              "    <tr style=\"text-align: right;\">\n",
              "      <th></th>\n",
              "      <th>Type</th>\n",
              "      <th>geometry</th>\n",
              "    </tr>\n",
              "  </thead>\n",
              "  <tbody>\n",
              "    <tr>\n",
              "      <th>0</th>\n",
              "      <td>Soccer field</td>\n",
              "      <td>POLYGON ((506671.880 5458456.306, 506762.150 5...</td>\n",
              "    </tr>\n",
              "    <tr>\n",
              "      <th>1</th>\n",
              "      <td>Roof</td>\n",
              "      <td>POLYGON ((506827.994 5458444.093, 506869.413 5...</td>\n",
              "    </tr>\n",
              "    <tr>\n",
              "      <th>2</th>\n",
              "      <td>Forest</td>\n",
              "      <td>POLYGON ((506963.931 5458670.299, 506975.613 5...</td>\n",
              "    </tr>\n",
              "  </tbody>\n",
              "</table>\n",
              "</div>"
            ],
            "text/plain": [
              "           Type                                           geometry\n",
              "0  Soccer field  POLYGON ((506671.880 5458456.306, 506762.150 5...\n",
              "1          Roof  POLYGON ((506827.994 5458444.093, 506869.413 5...\n",
              "2        Forest  POLYGON ((506963.931 5458670.299, 506975.613 5..."
            ]
          },
          "metadata": {
            "tags": []
          },
          "execution_count": 167
        }
      ]
    },
    {
      "cell_type": "markdown",
      "metadata": {
        "id": "m-lyw74cR6En"
      },
      "source": [
        "Let's try to find out which of the three polygons is the brightest. To do so we must first calculate the brightness of the image:"
      ]
    },
    {
      "cell_type": "code",
      "metadata": {
        "colab": {
          "base_uri": "https://localhost:8080/"
        },
        "id": "g0NIxiZoSHKx",
        "outputId": "b04ab49b-d1c6-4db2-91f2-44e5afee36e1"
      },
      "source": [
        "import numpy as np  # We need NumPy for this\r\n",
        "\r\n",
        "# And we need to open the image file again\r\n",
        "imageFilename = myDir + 'sfu.tif'\r\n",
        "ds = rasterio.open(imageFilename)  # ds is a commonly used shorthand for 'dataset'\r\n",
        "\r\n",
        "band1 = ds.read(1).astype('uint16')\r\n",
        "band2 = ds.read(2).astype('uint16')\r\n",
        "band3 = ds.read(3).astype('uint16')\r\n",
        "brightness = (band1 + band2 + band3) / 3\r\n",
        "brightness"
      ],
      "execution_count": null,
      "outputs": [
        {
          "output_type": "execute_result",
          "data": {
            "text/plain": [
              "array([[ 43.33333333,  49.33333333,  54.        , ...,  57.66666667,\n",
              "         58.66666667,  56.33333333],\n",
              "       [ 34.66666667,  35.66666667,  47.        , ...,  57.33333333,\n",
              "         53.66666667,  52.        ],\n",
              "       [ 41.66666667,  38.66666667,  40.33333333, ...,  45.        ,\n",
              "         49.        ,  53.        ],\n",
              "       ...,\n",
              "       [ 88.66666667,  90.        , 105.        , ...,  28.        ,\n",
              "         26.33333333,  25.        ],\n",
              "       [ 70.66666667,  76.        ,  99.        , ...,  26.33333333,\n",
              "         24.33333333,  24.        ],\n",
              "       [ 57.66666667,  70.33333333, 100.        , ...,  25.        ,\n",
              "         23.66666667,  24.33333333]])"
            ]
          },
          "metadata": {
            "tags": []
          },
          "execution_count": 173
        }
      ]
    },
    {
      "cell_type": "markdown",
      "metadata": {
        "id": "CraL3UOOfx55"
      },
      "source": [
        "Now brightness is a NumPy array, but there are two remaining issues:\r\n",
        "\r\n",
        "1\\) NumPy arrays don't have location information attached to them, so we need to extract that information from the raster data as well. Otherwise there is no way to associated the coordinates for each polygon with the rows and columns of the NumPy array! To do that we can use the geotransform information from ds, using 'ds.transform'\r\n",
        "\r\n",
        "2\\) We also need to provide information on the value, in the NumPy array, that is used for missing data. This is the standard 'nan' value used by NumPy.\r\n",
        "\r\n",
        "So, in the end we can use the rasterstats zonal_stats function like this:\r\n"
      ]
    },
    {
      "cell_type": "code",
      "metadata": {
        "colab": {
          "base_uri": "https://localhost:8080/"
        },
        "id": "-Yj0bfPdgCGy",
        "outputId": "04f9a4e3-9c62-4774-8a3f-8eaa9fecaec5"
      },
      "source": [
        "stats = rasterstats.zonal_stats(polys, band1, nodata=np.nan, affine=ds.transform)  # This works\r\n",
        "stats"
      ],
      "execution_count": null,
      "outputs": [
        {
          "output_type": "execute_result",
          "data": {
            "text/plain": [
              "[{'count': 480124, 'max': 251.0, 'mean': 140.33809599186876, 'min': 42.0},\n",
              " {'count': 62428, 'max': 237.0, 'mean': 74.28887678605754, 'min': 9.0},\n",
              " {'count': 93533, 'max': 100.0, 'mean': 35.84866303871361, 'min': 7.0}]"
            ]
          },
          "metadata": {
            "tags": []
          },
          "execution_count": 192
        }
      ]
    },
    {
      "cell_type": "markdown",
      "metadata": {
        "id": "jwjPemNTkyot"
      },
      "source": [
        "Note that the zonal_stats function can also work with files directly, instead of with data objects already read into Python. Here are two examples that would provide the same results as the above:"
      ]
    },
    {
      "cell_type": "code",
      "metadata": {
        "id": "h8AKV-7Lk-B-"
      },
      "source": [
        "stats = rasterstats.zonal_stats(polygonsFilename, imageFilename)  # Using files for both vector and raster data\r\n",
        "stats = rasterstats.zonal_stats(polys, imageFilename)  # Using the 'polys' object with the raster file"
      ],
      "execution_count": null,
      "outputs": []
    },
    {
      "cell_type": "markdown",
      "metadata": {
        "id": "okP8uHWZlI4r"
      },
      "source": [
        "##Exercise\r\n",
        "Find out which of the three polygons has the highest mean GCC value."
      ]
    }
  ]
}
