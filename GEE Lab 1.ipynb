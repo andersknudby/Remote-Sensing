{
  "nbformat": 4,
  "nbformat_minor": 0,
  "metadata": {
    "colab": {
      "name": "GEE Lab 1.ipynb",
      "private_outputs": true,
      "provenance": [],
      "collapsed_sections": [],
      "toc_visible": true,
      "include_colab_link": true
    },
    "kernelspec": {
      "name": "python3",
      "display_name": "Python 3"
    }
  },
  "cells": [
    {
      "cell_type": "markdown",
      "metadata": {
        "id": "view-in-github",
        "colab_type": "text"
      },
      "source": [
        "<a href=\"https://colab.research.google.com/github/andersknudby/Remote-Sensing/blob/master/GEE%20Lab%201.ipynb\" target=\"_parent\"><img src=\"https://colab.research.google.com/assets/colab-badge.svg\" alt=\"Open In Colab\"/></a>"
      ]
    },
    {
      "cell_type": "markdown",
      "metadata": {
        "id": "ZrD5e3ItlOSl"
      },
      "source": [
        "#GEE Lab 1: Intro to Google Earth Engine\n",
        "Developed by Genevieve George"
      ]
    },
    {
      "cell_type": "markdown",
      "metadata": {
        "id": "RSD6EQTqpNfo"
      },
      "source": [
        "## Introduction\n",
        "\n",
        "In this lab we will learn how to work with the Google Earth Engine (GEE) python API in Google Colab. \n",
        "We will explore the GEE environment and how we can use it to access imagery. Then we will use it to explore and cloud-mask images and image collections.\n",
        "\n",
        "**Files you need:** N/A\n",
        "\n",
        "**Preparation:** You should be fine as long as you have followed the course so far."
      ]
    },
    {
      "cell_type": "markdown",
      "metadata": {
        "id": "W1Ydjvj8pR4q"
      },
      "source": [
        "## Steps"
      ]
    },
    {
      "cell_type": "markdown",
      "metadata": {
        "id": "i-birGdTlidg"
      },
      "source": [
        "###| 1. Imports, installation, authentication, initialization\n",
        "\n",
        "There are a couple of set-up features that are unique to using Google Earth Engine in Google Colaboratory. Make sure to read through each point to ensure you understand the steps going forward.\n",
        "\n",
        "\n",
        "1.   GEE has a Javascript API, in which it has a built-in interactive map. In order to visualize our results in the python API, we need to use a special library to load interactive maps. For this course, we will use `geemap` which is based on `ipyleaflet` and `ipywidgets`.\n",
        "2.   Unlike many libraries in Google Colab (like numpy, matplotlib, ee, etc.), the geemap library isn't pre-installed, so we need to install it every time we reconnect to an instance of Colab using the line `!pip install geemap`.\n",
        "3.   We need to authenticate and initialize GEE every time we reconnect to an instance using the lines `ee.Authenticate()` and `ee.Initialize()`. Follow the resulting prompts to authenticate each instance.\n",
        "4.   Unlike the Javascript API, the python API does not have a console that we can print to, to easily show information about our images and image collections. Instead we need to use `.getInfo()` to print and pprint (pretty printer) to organize the lines to make them easy to read. \n",
        "\n",
        "There are pros and cons to using both the Javascript API and the python API for Google Earth Engine. One of the major pros of working with the python API is that you don't need to learn Javascript to use it! Another pro is that you can combine GEE code with other remote sensing and raster python libraries to drastically increase how much you can do with the images. \n",
        "\n",
        "However, the documentation for the python API is much less complete than for the Javascript API and the console is not as interactive. \n",
        "\n",
        "In our case, the pros outweigh the cons since we have already been working in python, so let's get started!\n",
        "\n",
        "\n"
      ]
    },
    {
      "cell_type": "code",
      "metadata": {
        "id": "JqloY9sL4SdQ"
      },
      "source": [
        "# Install geemap library so that we can use it to view images on an interactive map\n",
        "## You may get a runtime warning - you can ignore that\n",
        "!pip install geemap"
      ],
      "execution_count": null,
      "outputs": []
    },
    {
      "cell_type": "code",
      "metadata": {
        "id": "BrNt-2X2eSxW"
      },
      "source": [
        "# Import the necessary libraries\n",
        "import ee\n",
        "import numpy as np\n",
        "import geemap.eefolium as geemap\n",
        "import pprint\n",
        "\n",
        "# Set up a 'pretty printer' to print ...\n",
        "pp = pprint.PrettyPrinter(depth=3)"
      ],
      "execution_count": null,
      "outputs": []
    },
    {
      "cell_type": "code",
      "metadata": {
        "id": "eCgdEO86zQX5"
      },
      "source": [
        "# Authenticate and initialize this instance of GEE in Google Colab\n",
        "## Follow the prompts and fill in authentication code\n",
        "ee.Authenticate()\n",
        "ee.Initialize()"
      ],
      "execution_count": null,
      "outputs": []
    },
    {
      "cell_type": "markdown",
      "metadata": {
        "id": "W-mfqz8w53CR"
      },
      "source": [
        "### | 2. Explore the geemap interface\n",
        "\n",
        "When using the geemap library to examine imagery, there are a couple of quirks we need to get used to. \n",
        "\n",
        "The first quirk is that we need to first tell the computer that we want to plot things on a map by creating a map object.\n",
        "\n",
        "The map object will be assigned to a variable and can have any name you want (just like other variables). Try to name it something that makes sense, like, `Map`."
      ]
    },
    {
      "cell_type": "code",
      "metadata": {
        "id": "rK56AcSE62wH"
      },
      "source": [
        "Map = geemap.Map()"
      ],
      "execution_count": null,
      "outputs": []
    },
    {
      "cell_type": "markdown",
      "metadata": {
        "id": "EeW_MiQU67X1"
      },
      "source": [
        "Note that the above code doesn't produce anything - all we have done is assign a map object to a variable. If we want to explore our map, we need to call for it."
      ]
    },
    {
      "cell_type": "code",
      "metadata": {
        "id": "JOxgRaB77C8a"
      },
      "source": [
        "Map"
      ],
      "execution_count": null,
      "outputs": []
    },
    {
      "cell_type": "markdown",
      "metadata": {
        "id": "h6owVQx582xf"
      },
      "source": [
        "We can explore this map by zooming in and moving it around. It currently has two layers: Google Maps and its basemap, Open Street Map, but in order to play around with the layers, we need to explicitly tell our map that we want to do that."
      ]
    },
    {
      "cell_type": "code",
      "metadata": {
        "id": "TtonMtdg9SyA"
      },
      "source": [
        "Map.addLayerControl()"
      ],
      "execution_count": null,
      "outputs": []
    },
    {
      "cell_type": "markdown",
      "metadata": {
        "id": "EwlkkDjY9Xaq"
      },
      "source": [
        "Whenever we do something to our map in Google Colab, we need to call for it again. "
      ]
    },
    {
      "cell_type": "code",
      "metadata": {
        "id": "ODudqYMV9jd6"
      },
      "source": [
        "Map"
      ],
      "execution_count": null,
      "outputs": []
    },
    {
      "cell_type": "markdown",
      "metadata": {
        "id": "85vma1VK9pGO"
      },
      "source": [
        "Now we have a little button in the top right corner that allows us to change the layers we see. Currently our only options are to toggle Google Maps on and off, but as we add more layers to our map, the `Map.addLayerControl()` function will be useful. \n",
        "\n",
        "Note that `Map` in this case is the variable we assigned our map object to. If you named your map object `My_cute_map_1` then you need to call `My_cute_map_1.addLayerControl()`."
      ]
    },
    {
      "cell_type": "markdown",
      "metadata": {
        "id": "Rx-NyzLR_HjY"
      },
      "source": [
        "###| 3. Access and filter an image collection\n",
        "\n",
        "Google Earth Engine allows you to add any imagery from their [data catalog](https://developers.google.com/earth-engine/datasets). I encourage you to explore the datasets they have available. Their catalog does an excellent job of summarizing the data and providing example code for how to import the imagery into GEE.\n",
        "\n",
        "To get started, let's import some Landsat imagery. Go to the [Landsat 8 Tier 1 dataset page](https://developers.google.com/earth-engine/datasets/catalog/LANDSAT_LC08_C01_T1_SR) to read the description of this data set and get more information about how to import Landsat 8."
      ]
    },
    {
      "cell_type": "code",
      "metadata": {
        "id": "EIB61-3mCiae"
      },
      "source": [
        "# Assign your image collection of choice to a variable\n",
        "\n",
        "# The GEE data catalog provides the string used to code for each dataset\n",
        "# For landsat 8, the string is \"LANDSAT/LC08/C01/T1_SR\"\n",
        "Landsat8_collection = ee.ImageCollection(\"LANDSAT/LC08/C01/T1_SR\")\n",
        "\n",
        "# Similarly, to import the Landsat 7 surface reflectance collection, we use:\n",
        "L7 = ee.ImageCollection(\"LANDSAT/LE07/C01/T1_SR\")"
      ],
      "execution_count": null,
      "outputs": []
    },
    {
      "cell_type": "markdown",
      "metadata": {
        "id": "my6nUUAtEiW5"
      },
      "source": [
        "Now we have stored the entire Landsat 8 collection in a variable. Let's get an idea of how many images that is (warning: this may take a while to run)"
      ]
    },
    {
      "cell_type": "code",
      "metadata": {
        "id": "MdWu6kd_E3FR"
      },
      "source": [
        "print(Landsat8_collection.size().getInfo())"
      ],
      "execution_count": null,
      "outputs": []
    },
    {
      "cell_type": "markdown",
      "metadata": {
        "id": "NADOygiOE2Mx"
      },
      "source": [
        "That code tells us that we have over a million individual Landsat tiles stored in our `Landsat8_collection` variable. That is more than we need, so let's filter our collection to only get images that are of interest to us. For now, let's concentrate on the area around uOttawa for summer 2020."
      ]
    },
    {
      "cell_type": "code",
      "metadata": {
        "id": "QVJk7RqUF1oU"
      },
      "source": [
        "# Create a point from coordinates\n",
        "uOttawa = ee.Geometry.Point([-75.683187,45.423050]) \n",
        "\n",
        "# Filter the collection by location\n",
        "L8_uOttawa = Landsat8_collection.filterBounds(uOttawa)\n",
        "\n",
        "# Check how many images we have\n",
        "print(L8_uOttawa.size().getInfo())"
      ],
      "execution_count": null,
      "outputs": []
    },
    {
      "cell_type": "code",
      "metadata": {
        "id": "VtMuvFoIGxE7"
      },
      "source": [
        "# Filter the collection by time period\n",
        "# Note that we are further filtering the collection that we already filtered by location\n",
        "L8_uOttawa_S2020 = L8_uOttawa.filterDate('2020-06-01', '2020-08-31')\n",
        "\n",
        "# Check how many images we have\n",
        "print(L8_uOttawa_S2020.size().getInfo())"
      ],
      "execution_count": null,
      "outputs": []
    },
    {
      "cell_type": "markdown",
      "metadata": {
        "id": "Dfxk3r3SL3Vw"
      },
      "source": [
        "There are many other ways we can filter an image collection. Scroll through the filter documentation in the [API docs guide](https://developers.google.com/earth-engine/api_docs#eefilter) to explore different ways of filtering. You can also explore the different functions (including filtering functions) by checking out the client libraries section (on the left hand side) of [GEE's documentation guides](https://developers.google.com/earth-engine/apidocs/ee-filter)\n"
      ]
    },
    {
      "cell_type": "markdown",
      "metadata": {
        "id": "vEQPXKyyRMV1"
      },
      "source": [
        "###| 4. Examine an image"
      ]
    },
    {
      "cell_type": "code",
      "metadata": {
        "id": "GHMEurJvL254"
      },
      "source": [
        "# Get a list of all the image names in our collection \n",
        "imagenames = L8_uOttawa_S2020.aggregate_array('system:id') # the Landsat id is stored under the 'system:id' property\n",
        "\n",
        "# You can either print it normally\n",
        "print(\"List of images: \",imagenames.getInfo())\n",
        "\n",
        "# or use pretty printer to get a vertical list\n",
        "pp.pprint(imagenames.getInfo())\n"
      ],
      "execution_count": null,
      "outputs": []
    },
    {
      "cell_type": "code",
      "metadata": {
        "id": "B3JLlhbMQ8dO"
      },
      "source": [
        "# Load the first image in the collection\n",
        "L8_2020June11 = ee.Image('LANDSAT/LC08/C01/T1_SR/LC08_015028_20200611')\n",
        "\n",
        "# Explore the properties of the image\n",
        "imageprops = geemap.image_props(L8_2020June11)\n",
        "imageprops.getInfo()"
      ],
      "execution_count": null,
      "outputs": []
    },
    {
      "cell_type": "markdown",
      "metadata": {
        "id": "OlrQzozIXDzD"
      },
      "source": [
        "The above code returns all of the associated metadata from an image. From this, we can see that the image has 74.5% cloud cover, that it has 12 bands, including 3 quality bands, and that it was taken on June 6th 2020 at 3:44PM, among other things."
      ]
    },
    {
      "cell_type": "markdown",
      "metadata": {
        "id": "rv0VaOUpMDsj"
      },
      "source": [
        "To see what it looks like, we will use `Map.addLayer()`. This function takes 5 inputs, but only the first is required, the rest only have to be specified if you don't want to use the default.\n",
        "\n",
        "\n",
        "\n",
        "`Map.addLayer(eeObject, visParams, name, shown, opacity)`\n",
        "\n",
        "**Where:**\n",
        "\n",
        "\n",
        "`eeObject` = the object you want to add, usually either an image or a geometry\n",
        "\n",
        "`visParams` = the visualization parameters used to display the object, see more description below.\n",
        "\n",
        "`name` =  the name you want shown beside the layer on the map. Default is 'Layer N'\n",
        "\n",
        "`shown` = **True** (layer is automatically on) or **False** (layer is off). Default is **True**\n",
        "\n",
        "`opacity` = number between 0 (transparent) and 1 (fully opaque). Default is 1\n",
        "\n"
      ]
    },
    {
      "cell_type": "markdown",
      "metadata": {
        "id": "QkFIz4HUUXVq"
      },
      "source": [
        "The visualization parameters have many options\n",
        "![Visualization Parameter Options.png](data:image/png;base64,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)\n"
      ]
    },
    {
      "cell_type": "markdown",
      "metadata": {
        "id": "UyK7Q0JxUaaP"
      },
      "source": [
        "The visualization parameters are set up within curly brackets (braces) with the following set up:\n",
        "\n"
      ]
    },
    {
      "cell_type": "code",
      "metadata": {
        "id": "JJeKCAGOXhAa"
      },
      "source": [
        "visParams = {\n",
        " 'bands': ['B4', 'B3', 'B2'],\n",
        " 'min': 0,\n",
        " 'max': 5000,\n",
        " }"
      ],
      "execution_count": null,
      "outputs": []
    },
    {
      "cell_type": "markdown",
      "metadata": {
        "id": "IqesH4pxYy4X"
      },
      "source": [
        "There are also two main ways to set the map view, so that we don't have to drag and zoom in to see our layer.\n",
        "\n",
        "`Map.setCenter(longitude,latitiude,zoomlevel)`\n",
        "\n",
        "and\n",
        "\n",
        "`Map.centerObject(object,zoomlevel)`"
      ]
    },
    {
      "cell_type": "markdown",
      "metadata": {
        "id": "S7kTXXMlXqC0"
      },
      "source": [
        "Now we can use those to visualize our Landsat 8 image."
      ]
    },
    {
      "cell_type": "code",
      "metadata": {
        "id": "k_KtRRKCav-K"
      },
      "source": [
        "Map = geemap.Map()\n",
        "# Centre the map on the point\n",
        "Map.centerObject(uOttawa, 8)\n",
        "\n",
        "# Here we set it up so that band4 is in Red, B3 is in Green, and B2 is in Blue\n",
        "visParams = {\n",
        "  'bands': ['B4', 'B3', 'B2'],\n",
        "  'min': 0,\n",
        "  'max': 3000,\n",
        "  'gamma': 1.4,\n",
        "}\n",
        "\n",
        "# Add the scene to the map with the visualization parameters created above\n",
        "Map.addLayer(L8_2020June11, visParams)\n",
        "Map.addLayerControl()\n",
        "\n",
        "#Done!  now you can zoom/pan and look at the image you have requested.\n",
        "Map"
      ],
      "execution_count": null,
      "outputs": []
    },
    {
      "cell_type": "markdown",
      "metadata": {
        "id": "60g5Wi-olpSd"
      },
      "source": [
        "###| 5. Cloud masking\n",
        "\n",
        "The first image in our image collection is really cloudy, you can't even see uOttawa at all!\n",
        "\n",
        "There are a couple of ways to get around the clouds. Instead of using the first image in our image collection, we could instead sort it to get the least cloudy image.\n"
      ]
    },
    {
      "cell_type": "code",
      "metadata": {
        "id": "Glzsww6HqVLb"
      },
      "source": [
        "# Sort the collection by cloud cover and then take the first (the least cloudy)\n",
        "leastcloudy = L8_uOttawa_S2020.sort('CLOUD_COVER').first()\n",
        "\n",
        "# Check how much cloud cover the least cloudy image has\n",
        "imageprops = geemap.image_props(leastcloudy)\n",
        "print(imageprops.get('CLOUD_COVER').getInfo())"
      ],
      "execution_count": null,
      "outputs": []
    },
    {
      "cell_type": "markdown",
      "metadata": {
        "id": "S40EuTvqqnE9"
      },
      "source": [
        "This is great if we aren't picky about the date or we just want to take a quick look at the area but if we need to analyze the image, we will need to mask out the clouds. \n",
        "\n",
        "There are several different ways to mask clouds, and different options for each sensor. For Landsat, one useful method to mask out clouds is by using the pixel quality assurance band. The quality assurance band `pixel_qa` contains information about the quality of each pixel. These methods select any pixels that are “bad” and mask them out.\n",
        "\n",
        "If you're interested and want more information on how the qa bands work, check out [this](https://www.google.com/url?q=https://www.usgs.gov/land-resources/nli/landsat/landsat-sr-derived-spectral-indices-pixel-quality-band&sa=D&source=editors&ust=1613500103309000&usg=AOvVaw0ZJKTwxW03RKzPTPRUYO4r) and [this](https://hyspeedblog.wordpress.com/2014/08/27/working-with-landsat-8-using-and-interpreting-the-quality-assessment-qa-band/). \n",
        "\n",
        "For now, it's not super necessary to understand how this function works. Both the L8 and the L457 cloud masks used in this lab were taken directly from the Google example scripts (see the end of [this page](https://developers.google.com/earth-engine/datasets/catalog/LANDSAT_LC08_C01_T1_SR) to find the L8 cloud masking function).\n"
      ]
    },
    {
      "cell_type": "code",
      "metadata": {
        "id": "Ij1rHdSp5Kn9"
      },
      "source": [
        "# Create a function to mask out clouds in Landsat 8 images\n",
        "## This one is taken from GEE example scripts\n",
        "\n",
        "def cloudMaskL8(image):\n",
        "  # Bits 3 and 5 are cloud shadow and cloud, respectively.\n",
        "  cloudShadowBitMask = 1 << 3 #select the cloud shadow bit location\n",
        "  cloudsBitMask = 1 << 5 # select the cloud bit location\n",
        "  # Get the pixel QA band.\n",
        "  qa = image.select('pixel_qa')\n",
        "  # Both flags should be set to zero, indicating clear conditions.\n",
        "  # this only keeps pixels were both the cloud and cloud shadow bits are set to 0\n",
        "  mask = qa.bitwiseAnd(cloudShadowBitMask).eq(0).And(qa.bitwiseAnd(cloudsBitMask).eq(0))\n",
        "  # Return the masked image, not scaled to reflectance, with the QA bands.\n",
        "  return image.updateMask(mask)"
      ],
      "execution_count": null,
      "outputs": []
    },
    {
      "cell_type": "markdown",
      "metadata": {
        "id": "SzYjR3hssPYe"
      },
      "source": [
        "We can run this function on a single image, or 'map' it across an entire image collection. In the latter case, the function is applied to every single image in the image collection. This is useful if later you want to reduce a stack of images into a single image composite or an image mosaic (which we will do in another lab!)"
      ]
    },
    {
      "cell_type": "code",
      "metadata": {
        "id": "wR3DyDTmsK5p"
      },
      "source": [
        "# On a single image\n",
        "CF_06112020 = cloudMaskL8(L8_2020June11)\n",
        "\n",
        "# On an image collection\n",
        "CF_Summer2020 = L8_uOttawa_S2020.map(cloudMaskL8)"
      ],
      "execution_count": null,
      "outputs": []
    },
    {
      "cell_type": "markdown",
      "metadata": {
        "id": "xYZQDOugtvCI"
      },
      "source": [
        "Check out what the cloud masked image looks like"
      ]
    },
    {
      "cell_type": "code",
      "metadata": {
        "id": "Ji9FLBjqtxjb"
      },
      "source": [
        "Map = geemap.Map()\n",
        "Map.addLayer(CF_06112020,visParams)\n",
        "Map.centerObject(uOttawa,8)\n",
        "Map.addLayerControl()\n",
        "Map"
      ],
      "execution_count": null,
      "outputs": []
    },
    {
      "cell_type": "markdown",
      "metadata": {
        "id": "C6eDm0aIiu-Y"
      },
      "source": [
        "## Review\n"
      ]
    },
    {
      "cell_type": "markdown",
      "metadata": {
        "id": "yl6jMmX6Eyzo"
      },
      "source": [
        "### Combine into one cell\n",
        "\n",
        "Once you get the hang of what each chunk of code does, all of these steps can easily be combined into one code cell. "
      ]
    },
    {
      "cell_type": "code",
      "metadata": {
        "id": "gAGL5sLgk15g"
      },
      "source": [
        "# Import the image collection and create any geometries you will need later\n",
        "\n",
        "L7 = ee.ImageCollection(\"LANDSAT/LE07/C01/T1_SR\")\n",
        "\n",
        "# This function creates my aoi (area of interest) around central Ottawa\n",
        "## NB: if your polygon covers more than one scene, your collection will include all those images,\n",
        "## not just the ones that overlap\n",
        "aoi = ee.Geometry.Polygon([[-75.74,45.43],\n",
        "                           [-75.65,45.43], \n",
        "                           [-75.65,45.39], \n",
        "                           [-75.74,45.39], \n",
        "                           [-75.74,45.43]])\n",
        "\n",
        "# Define all the functions you will apply or 'map' across your image collection\n",
        "\n",
        "def cloudMaskL457(image):\n",
        "  qa = image.select('pixel_qa')\n",
        "  # If the cloud bit (5) is set and the cloud confidence (7) is high\n",
        "  # or the cloud shadow bit is set (3), then it's a bad pixel.\n",
        "  cloud = qa.bitwiseAnd(1 << 5) \\\n",
        "                  .And(qa.bitwiseAnd(1 << 7))\n",
        "  mask2 = image.mask()\n",
        "  return image.updateMask(cloud.Not()).updateMask(mask2)\n",
        "\n",
        "# Filter the image collection\n",
        "# this filter function allows us to select dates from >1 time period\n",
        "# Because I just want to see a single image, I will use .sort() and .first()\n",
        "# to get the least cloudy image from the stack\n",
        "L7_Ot_LC_Summer0506 = L7.filterBounds(aoi)\\\n",
        "                  .filter(ee.Filter.Or(ee.Filter.And(ee.Filter.date('2005-06-01', '2005-08-31')),\n",
        "                  ee.Filter.And(ee.Filter.date('2006-06-01', '2006-08-31')))) \\\n",
        "                  .map(cloudMaskL457) \\\n",
        "                  .sort(\"CLOUD_COVER\") \\\n",
        "                  .first() \\\n",
        "                  .clip(aoi) #this only works on an image, not an image collection\n",
        "\n",
        "# View the result\n",
        "visParams = {\n",
        "  'bands': ['B3', 'B2', 'B1'],\n",
        "  'min': 0,\n",
        "  'max': 3000,\n",
        "  'gamma': 1.4,\n",
        "}\n",
        "Map = geemap.Map()\n",
        "Map.addLayer(L7_Ot_LC_Summer0506,visParams)\n",
        "Map.centerObject(aoi,13)\n",
        "Map.addLayerControl()\n",
        "Map\n",
        "\n",
        "# Hello scan line failure, my old friend.\n"
      ],
      "execution_count": null,
      "outputs": []
    },
    {
      "cell_type": "markdown",
      "metadata": {
        "id": "8Wu-b1okE9Db"
      },
      "source": [
        "### Earth Engine Javascript Code Editor"
      ]
    },
    {
      "cell_type": "markdown",
      "metadata": {
        "id": "-d7SMEav35dh"
      },
      "source": [
        "Now that you have the hang of how to use google earth engine in python, follow this [link](https://code.earthengine.google.com/d0edd045ddb2e4c33b4fd7f5767b8cc1?noload=true) to take a look at how the same code works in the Javascript GEE Code Editor (you have to zoom in to Ottawa to see the result).\n",
        "\n",
        "*   What are the differences? \n",
        "\n",
        "*   What happens when you print?\n",
        "*   Hover over the imports of the image collection and the AOI - what happens if you click convert?\n",
        "\n",
        "While you're there, take a look at the 'docs' tab on the left hand side and the 'inspector' tab on the right hand side. What are they? What do they do?\n"
      ]
    },
    {
      "cell_type": "markdown",
      "metadata": {
        "id": "6KPRy-_lMk6O"
      },
      "source": [
        "## Questions to Submit\n",
        "Answer the following questions in the space provided. Feel free to add additional code and text cells as needed. Make sure to show all of your code.\n",
        "\n",
        "**In all cases**, if you use code chunks from another source (not a bad thing), make sure to reference where you found them.\n",
        "\n",
        "**Please submit all your labs as .ipynb files, and ensure that the correct answers will appear when the notebook is run from the beginning to the end**\n",
        "\n"
      ]
    },
    {
      "cell_type": "markdown",
      "metadata": {
        "id": "ChwDTz1iV_w4"
      },
      "source": [
        "### Q1\n",
        "What are 4 different ways you can filter an image collection? Show how you could use those 4 methods to filter the Landsat 7 collection."
      ]
    },
    {
      "cell_type": "code",
      "metadata": {
        "id": "Z1GfsFwlWeWD"
      },
      "source": [
        "## Show your code here"
      ],
      "execution_count": null,
      "outputs": []
    },
    {
      "cell_type": "markdown",
      "metadata": {
        "id": "jEL4u63AWC6v"
      },
      "source": [
        "### Q2\n",
        "Examine an image from Landsat 5 Surface Reflectance Tier 1 collection over uOttawa from April 2011 (hint: start [here](https://developers.google.com/earth-engine/datasets/catalog/landsat-5)). Answer the following questions and show your code: \n",
        "1. How many bands does it have? \n",
        "2. What is the solar zenith angle? \n",
        "3. What percent cloud cover does it have? \n",
        "4. What is the path and row of the image? \n",
        "5. What date was the image taken? \n",
        "6. How many images are in the L5 collection over uOttawa in April 2011?"
      ]
    },
    {
      "cell_type": "code",
      "metadata": {
        "id": "8eWExaGKbKmd"
      },
      "source": [
        "## Show your code here"
      ],
      "execution_count": null,
      "outputs": []
    },
    {
      "cell_type": "markdown",
      "metadata": {
        "id": "-XndL1U2b8G5"
      },
      "source": [
        "### Q3\n",
        "Name and explain 3 differences between the python (in Colab) and javascript (in GEE code editor) environments and/or code structure."
      ]
    },
    {
      "cell_type": "markdown",
      "metadata": {
        "id": "blMwq1wsfJwI"
      },
      "source": [
        "// Answer here"
      ]
    },
    {
      "cell_type": "markdown",
      "metadata": {
        "id": "hECVPw_2fIHQ"
      },
      "source": [
        "### Q4\n",
        "Show the least cloudy 'Vegetation Analysis' false colour (SWIR1-NIR-BLUE as RGB) Landsat 8 image over Banff National Park from August 2014"
      ]
    },
    {
      "cell_type": "code",
      "metadata": {
        "id": "IqyTnlAV3rwa"
      },
      "source": [
        "## Show your code here"
      ],
      "execution_count": null,
      "outputs": []
    },
    {
      "cell_type": "markdown",
      "metadata": {
        "id": "VFw77GM73sBh"
      },
      "source": [
        "### Q5\n",
        "Explore the Google Earth Engine data catalog and display an image on a map from any collection we haven't used in this lab, i.e. anything other than Landsat 5,7 and 8. Make sure to use visualization parameters that work for your image (you may need to do some trial and error or some research to find what works).\n",
        "\n",
        "\n"
      ]
    },
    {
      "cell_type": "code",
      "metadata": {
        "id": "qh896mcW34-L"
      },
      "source": [
        "## Show your code here"
      ],
      "execution_count": null,
      "outputs": []
    }
  ]
}
