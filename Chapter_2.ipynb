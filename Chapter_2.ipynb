{
  "nbformat": 4,
  "nbformat_minor": 0,
  "metadata": {
    "colab": {
      "name": "Chapter 2.ipynb",
      "provenance": [],
      "collapsed_sections": [],
      "authorship_tag": "ABX9TyPByhlZ0xaFeEyaAshRgT7y",
      "include_colab_link": true
    },
    "kernelspec": {
      "name": "python3",
      "display_name": "Python 3"
    }
  },
  "cells": [
    {
      "cell_type": "markdown",
      "metadata": {
        "id": "view-in-github",
        "colab_type": "text"
      },
      "source": [
        "<a href=\"https://colab.research.google.com/github/andersknudby/Remote-Sensing/blob/master/Chapter_2.ipynb\" target=\"_parent\"><img src=\"https://colab.research.google.com/assets/colab-badge.svg\" alt=\"Open In Colab\"/></a>"
      ]
    },
    {
      "cell_type": "markdown",
      "metadata": {
        "id": "FFz-g2lmCn0I"
      },
      "source": [
        "# Chapter 2 - Variable manipulation and more on arrays and lists\r\n",
        "## Integers\r\n",
        "Integers may be the easiest kind of variable to deal with – you know exactly what you get when you write things like:"
      ]
    },
    {
      "cell_type": "code",
      "metadata": {
        "id": "kun6gkGMCgXS"
      },
      "source": [
        "a = 2\r\n",
        "b = 2\r\n",
        "c = a + b\r\n",
        "d = a - b"
      ],
      "execution_count": null,
      "outputs": []
    },
    {
      "cell_type": "markdown",
      "metadata": {
        "id": "mVDHpn7oDNMA"
      },
      "source": [
        "##### Note that in a notebook you can print a variable by just writing its name on a line."
      ]
    },
    {
      "cell_type": "code",
      "metadata": {
        "id": "7G54M4vTDLd6"
      },
      "source": [
        "c"
      ],
      "execution_count": null,
      "outputs": []
    },
    {
      "cell_type": "markdown",
      "metadata": {
        "id": "CHAzb7PGDQzB"
      },
      "source": [
        "##### But it only works for the last one you write:"
      ]
    },
    {
      "cell_type": "code",
      "metadata": {
        "id": "fXp0hfSSDUah"
      },
      "source": [
        "c\r\n",
        "d"
      ],
      "execution_count": null,
      "outputs": []
    },
    {
      "cell_type": "markdown",
      "metadata": {
        "id": "PJTK4zOVDXm5"
      },
      "source": [
        "##### To print the content of multiple variables you still use the print statement, which you also need if you work outside notebooks"
      ]
    },
    {
      "cell_type": "code",
      "metadata": {
        "id": "kYb5WrO7DXVJ"
      },
      "source": [
        "print(c)\r\n",
        "print(d)"
      ],
      "execution_count": null,
      "outputs": []
    },
    {
      "cell_type": "markdown",
      "metadata": {
        "id": "Cwj13werEE9c"
      },
      "source": [
        "##### Or even better (the \"str\" function is used to convert a number of a string, which is needed to print it together with another string:"
      ]
    },
    {
      "cell_type": "code",
      "metadata": {
        "id": "bXzRoLFvEJUb"
      },
      "source": [
        "print(\"c is: \" + str(c))\r\n",
        "print(\"d is: \" + str(d))"
      ],
      "execution_count": null,
      "outputs": []
    },
    {
      "cell_type": "markdown",
      "metadata": {
        "id": "l1NWaXwaFvNe"
      },
      "source": [
        "#### Floats\r\n",
        "##### Floats (floating point numbers) are what normal people calls numbers with decimals, like 0.4, -2.8, or 3.1415926. To make sure you define a number as a float rather than an integer, simply add a decimal value to it, as in the examples below. Floats also act pretty much like you expect they would, as you can verify with the following code:"
      ]
    },
    {
      "cell_type": "code",
      "metadata": {
        "id": "4vZRV4jzF1d9"
      },
      "source": [
        "a = 2.0\r\n",
        "b = 0.3\r\n",
        "c = a + b\r\n",
        "print(c)"
      ],
      "execution_count": null,
      "outputs": []
    },
    {
      "cell_type": "markdown",
      "metadata": {
        "id": "jE9s0rDMF_Yl"
      },
      "source": [
        "#####However, there is one thing to keep in mind when it comes to floats. Some decimal numbers have, in theory, an infinite number of decimals. For example, 10/3 is 3.333333333333 (and so on). But typical floats are stored using 24 bits of computer memory, and while that allows for a lot of decimals to be accurately stored, it is nevertheless a finite amount of memory and so it does not allow us to store the value of 10/3 with perfect precision. This can lead to rounding errors. In most cases such rounding errors are not going to be important, but occasionally they might be. For an illustration, try the following lines of code (this example has comments line by line, which is still easier than using text blocks in some cases):"
      ]
    },
    {
      "cell_type": "code",
      "metadata": {
        "id": "fb-2NzkLGi-2"
      },
      "source": [
        "import math  # ‘math’ is a standard Python library.\r\n",
        "a = math.sqrt(2)  # calculate the square root of 2, which is around 1.41\r\n",
        "b = pow(a, 2)  # raise a to the power of 2. The value of b should now be 2!\r\n",
        "print(b)  # print b with the normal print function.\r\n",
        "print(\"{:10.20f}\".format(b))  # print b with 20 decimals."
      ],
      "execution_count": null,
      "outputs": []
    },
    {
      "cell_type": "markdown",
      "metadata": {
        "id": "PcIugheqFv2e"
      },
      "source": [
        "When I run the code above, 'print(b)' gives me the expected result of 2.0, but the next print statement that provides me with a more detailed look at what the actual value of b is in computer memory, and it turns out it is slightly more than 2. The difference is tiny, but keep it in mind for later.\r\n",
        "\r\n",
        "Note also that most functions automatically create variables of a certain type. For example the function math.sqrt always produces a float, which makes sense because most square roots are decimal numbers. Operators (like '+' or '-') will produce variables of a type that depends on the input. If you are working with integers operators will typically give you an integer, if you are working with floats operators will give you a float, and if you are working with a mix of integers and floats operators will give you a float, to preserve as much precision as possible.\r\n",
        "\r\n",
        "One exception to the rule above is that division with integers gives you a float, even when it didn't need to. But note that integer division doesn't work like this in other Python IDEs, so you need to be careful when diviging integers. I prefer explicitly using floats (e.g. '5.0' instead of '5') when in doubt."
      ]
    },
    {
      "cell_type": "code",
      "metadata": {
        "id": "SOe_o1F6GFcs"
      },
      "source": [
        "print(type(4-2))\r\n",
        "print(type(4/2))"
      ],
      "execution_count": null,
      "outputs": []
    },
    {
      "cell_type": "markdown",
      "metadata": {
        "id": "FgflC8WrGpmG"
      },
      "source": [
        "##Strings\r\n",
        "Strings are designed to hold text, and as a result, they operate differently than integers and floats. To assign a piece of text to a variable as a string, simply put it in quotation marks:"
      ]
    },
    {
      "cell_type": "code",
      "metadata": {
        "id": "pAHjC82SGsw2"
      },
      "source": [
        "myName = \"Anders Knudby\"\r\n",
        "numberOfEyes = \"2\"\r\n",
        "CAD_US_Rate = \"0.75\""
      ],
      "execution_count": null,
      "outputs": []
    },
    {
      "cell_type": "markdown",
      "metadata": {
        "id": "faSGt3eaGyFO"
      },
      "source": [
        "A common use of strings is to hold paths to directories and file, such as:"
      ]
    },
    {
      "cell_type": "code",
      "metadata": {
        "id": "jRAcwCg-Gz2u"
      },
      "source": [
        "myHomeDir = \"C:/Users/Anders/My Documents/\"\r\n",
        "dataDir = \"D:/data/\"\r\n",
        "image = dataDir + \"testimage.tif\""
      ],
      "execution_count": null,
      "outputs": []
    },
    {
      "cell_type": "markdown",
      "metadata": {
        "id": "PcwVxg8SG7of"
      },
      "source": [
        "##Arrays\r\n",
        "Arrays are one of the most important variable types we will work with in remote sensing, because they contain structured sequences of (typically) numbers in one or more dimensions. As such, two-dimensional arrays correspond very well to the kind of data we find in a single band of a satellite image, and three-dimensional arrays correspond very well to the kind of data we find in all bands of a satellite image.\r\n",
        "The core Python installation doesn’t use arrays, so usually when people refer to arrays in Python what they mean is NumPy arrays. NumPy (Numerical Python) is one of the most commonly used Python libraries because it has lots of good functions to deal with numbers. So, to use arrays, we need to:"
      ]
    },
    {
      "cell_type": "code",
      "metadata": {
        "id": "KhYZnW85HUjC"
      },
      "source": [
        "import numpy as np"
      ],
      "execution_count": null,
      "outputs": []
    },
    {
      "cell_type": "markdown",
      "metadata": {
        "id": "rlC5G_xWHWrq"
      },
      "source": [
        "When you ***import*** a library ***as*** something, it changes how you will refer to it later on. In the section on floats, we used the statement *import math*, and then used the 'sqrt' function in the 'math' library by writing 'math.sqrt'. Because we have imported numpy ***as*** np here, we will now not need to write 'numpy.array' to use NumPy’s array function, instead we can simply write 'np.array'. Importing NumPy as np is standard practice, so you might as well get used to it.\r\n",
        "\r\n",
        "To create a NumPy array, you can use different functions. Try the following by pressing Ctrl+Enter in each code block (we won’t keep on putting things into variables, so in this example you will get a more immediate idea of what each command does):"
      ]
    },
    {
      "cell_type": "code",
      "metadata": {
        "id": "B6mCkMbIIE3M"
      },
      "source": [
        "np.array([1, 2, 3])  # Note the curved brackets, followed by the square brackets."
      ],
      "execution_count": null,
      "outputs": []
    },
    {
      "cell_type": "code",
      "metadata": {
        "id": "KR1qUu4MIOfy"
      },
      "source": [
        "np.array([1, 2.0, 3])  # If one or more numbers in a NumPy array is a float, all numbers become floats"
      ],
      "execution_count": null,
      "outputs": []
    },
    {
      "cell_type": "code",
      "metadata": {
        "id": "9hTDgX_GIU9j"
      },
      "source": [
        "np.array(([1, 2], [3, 4]))  # This structure creates a two-dimensional array, with two “lines” and two “columns”"
      ],
      "execution_count": null,
      "outputs": []
    },
    {
      "cell_type": "markdown",
      "metadata": {
        "id": "WuHvQL44IY3q"
      },
      "source": [
        "Sometimes you might want to create an empty array that you can later put some results into. Here are some options:"
      ]
    },
    {
      "cell_type": "code",
      "metadata": {
        "id": "67wp02hAIapr"
      },
      "source": [
        "np.zeros(4)"
      ],
      "execution_count": null,
      "outputs": []
    },
    {
      "cell_type": "code",
      "metadata": {
        "id": "BAkG3YZFIePz"
      },
      "source": [
        "np.ones(5)"
      ],
      "execution_count": null,
      "outputs": []
    },
    {
      "cell_type": "code",
      "metadata": {
        "id": "A2ybRJUyIfs7"
      },
      "source": [
        "np.empty(7)"
      ],
      "execution_count": null,
      "outputs": []
    },
    {
      "cell_type": "markdown",
      "metadata": {
        "id": "R4WyqTjBIklV"
      },
      "source": [
        "Note that the np.empty command creates an array with seemingly random numbers in it. Basically all it does is allocate some space in computer memory for a new array, and whatever values the bits in that memory space already have are not changed. Not having to change the values makes this command very fast, but it also means that if, for some reason, you don’t change the values later, you end up with very odd (and random) results. Use with care!"
      ]
    },
    {
      "cell_type": "markdown",
      "metadata": {
        "id": "dJeTFSxQImh1"
      },
      "source": [
        "##Array manipulation and indexing\r\n",
        "One of the most useful things about arrays is how you can either access individual values in them, or access all values at the same time.\r\n",
        "For example, simple arithmetic operations can be carried out very quickly and simply on an entire arrays at a time. Try the following to see how it works:"
      ]
    },
    {
      "cell_type": "code",
      "metadata": {
        "id": "asX97n8YIrV9"
      },
      "source": [
        "a = np.array([1, 2, 3, 4, 5, 6, 7, 8, 9, 10])\r\n",
        "b = a + 2\r\n",
        "print(b)"
      ],
      "execution_count": null,
      "outputs": []
    },
    {
      "cell_type": "markdown",
      "metadata": {
        "id": "x6ZK7HAfIvBN"
      },
      "source": [
        "You can also run operations on two arrays, as long as they have the same size (or at least as the size of one is a multiple of the size of the other, which is rarely useful):"
      ]
    },
    {
      "cell_type": "code",
      "metadata": {
        "id": "ADOJXDwdIxeo"
      },
      "source": [
        "a = np.array([1, 2, 3, 4, 5, 6, 7, 8, 9, 10])\r\n",
        "b = np.array([6, 2, 9, 10, 1, 3, 8, 7, 5, 4])\r\n",
        "print(a + b)"
      ],
      "execution_count": null,
      "outputs": []
    },
    {
      "cell_type": "markdown",
      "metadata": {
        "id": "71vC0owwIzwn"
      },
      "source": [
        "Now, if you want to access a single number in an array, you can do this easily if you know its position in the array because all positions are numbered. However, and this is counter-intuitive to most people at first, **position (index) numbers in Python start at 0**:"
      ]
    },
    {
      "cell_type": "code",
      "metadata": {
        "id": "XJ4Ox8JcI3EH"
      },
      "source": [
        "a = np.array([1, 2, 3, 4, 5, 6, 7, 8, 9, 10])\r\n",
        "b = np.array([6, 2, 9, 10, 1, 3, 8, 7, 5, 4])\r\n",
        "print(a[0])  # This prints the number at position 0 (the first position) in array ‘a’\r\n",
        "print(a[9])  # This prints the number at position 9 (the tenth position) in array ‘a’"
      ],
      "execution_count": null,
      "outputs": []
    },
    {
      "cell_type": "code",
      "metadata": {
        "id": "S9kgAG8eJDz7"
      },
      "source": [
        "print(a[10])  # Explain to yourself why this gives an error"
      ],
      "execution_count": null,
      "outputs": []
    },
    {
      "cell_type": "markdown",
      "metadata": {
        "id": "TLfl0AsjJJ4p"
      },
      "source": [
        "Make sure you understand why you get the answer you do when you run the code block below."
      ]
    },
    {
      "cell_type": "code",
      "metadata": {
        "id": "NemEIo_2JFw5"
      },
      "source": [
        "print(b[5] - a[4])"
      ],
      "execution_count": null,
      "outputs": []
    },
    {
      "cell_type": "markdown",
      "metadata": {
        "id": "M6NCNnNoJR5y"
      },
      "source": [
        "Numpy has some nifty functions for working with arrays to find specific values. Try the following:"
      ]
    },
    {
      "cell_type": "code",
      "metadata": {
        "id": "4B79qAsaJUOL"
      },
      "source": [
        "a = np.array([1, 2, 3, 4, 5, 6, 7, 8, 9, 10])\r\n",
        "print(np.max(a))  # This returns the maximum value in the array\r\n",
        "print(np.argmax(a))  # This returns the position of the maximum value in the array, however…\r\n",
        "a = np.array([10, 2, 3, 4, 5, 6, 7, 8, 9, 10])  # Note the changed first value\r\n",
        "print(np.argmax(a))  # When there are two or more values that share the distinction of being the maximum, np.argmax only tells you where the first one is!\r\n",
        "print(np.where(a==10)[0])  # np.where is a great alternative, which allows you to find all the positions in an array where a condition (in this case a being equal to 10) is fulfilled. More on that later."
      ],
      "execution_count": null,
      "outputs": []
    },
    {
      "cell_type": "markdown",
      "metadata": {
        "id": "t1p8o20iJlEN"
      },
      "source": [
        "##Lists\r\n",
        "Lists are kind of like arrays, but different in important ways:\r\n",
        "* Every element in an array must contain the same type of data (which is why all numbers are converted to floats if a single float is present in the array when it is created), but ***lists can contain different types of variables***.\r\n",
        "* Arrays have specific sizes that cannot be changed once they have been created (this is both an advantage and a disadvantage), but ***lists can be expanded or shrunk as necessary through the execution of a program***.\r\n",
        "\r\n",
        "To create a list, use square brackets:"
      ]
    },
    {
      "cell_type": "code",
      "metadata": {
        "id": "12VqmG4sKEmY"
      },
      "source": [
        "myShoppingList = [\"Milk\", \"Bread\", \"Candy\"]"
      ],
      "execution_count": null,
      "outputs": []
    },
    {
      "cell_type": "markdown",
      "metadata": {
        "id": "wGFRU5TQKKBh"
      },
      "source": [
        "To create an empty list:"
      ]
    },
    {
      "cell_type": "code",
      "metadata": {
        "id": "c6hG2XswKLgK"
      },
      "source": [
        "myEmptyList = []"
      ],
      "execution_count": null,
      "outputs": []
    },
    {
      "cell_type": "markdown",
      "metadata": {
        "id": "17WGZVjdKNoC"
      },
      "source": [
        "As mentioned above, lists can contain different kinds of variables. The following contains an integer, a float, a string, a NumPy array, and another list (note that when you have lists within lists you end up with multiple square brackets):"
      ]
    },
    {
      "cell_type": "code",
      "metadata": {
        "id": "KpmTUttvKQBJ"
      },
      "source": [
        "myCompletelyCrazyList = [1, 4.5346, \"a random string\", np.zeros(4), [\"Milk\", \"Bread\"]]"
      ],
      "execution_count": null,
      "outputs": []
    },
    {
      "cell_type": "markdown",
      "metadata": {
        "id": "QAObgaSQKWr7"
      },
      "source": [
        "Of course you can also put existing variables in a list, like so:"
      ]
    },
    {
      "cell_type": "code",
      "metadata": {
        "id": "KY3newDYKXQM"
      },
      "source": [
        "myEvenCrazierList = [myShoppingList, myEmptyList, myCompletelyCrazyList]\r\n",
        "myEvenCrazierList"
      ],
      "execution_count": null,
      "outputs": []
    },
    {
      "cell_type": "markdown",
      "metadata": {
        "id": "looNxqXTKl09"
      },
      "source": [
        "You can access individual elements from a list the same way you did with arrays, like so:"
      ]
    },
    {
      "cell_type": "code",
      "metadata": {
        "id": "IrNwKDpoKmQd"
      },
      "source": [
        "myCompletelyCrazyList[2]  # Also for lists, positions start at 0"
      ],
      "execution_count": null,
      "outputs": []
    },
    {
      "cell_type": "markdown",
      "metadata": {
        "id": "WQ8gpvLUKp9l"
      },
      "source": [
        "A common function used with lists is to add something to the end of it. Say you forgot that you also needed to buy medicine, you could add it to your shopping list with the ‘append’ function:"
      ]
    },
    {
      "cell_type": "code",
      "metadata": {
        "id": "9g868b9xKr9d"
      },
      "source": [
        "myShoppingList.append(\"Medicine\")"
      ],
      "execution_count": null,
      "outputs": []
    },
    {
      "cell_type": "markdown",
      "metadata": {
        "id": "mf9hnRgvKu72"
      },
      "source": [
        "Note that arrays can be converted to lists with the .tolist() command, and lists can be converted to arrays with the np.asarray() command, like so:"
      ]
    },
    {
      "cell_type": "code",
      "metadata": {
        "id": "gU1wgHJaKxet"
      },
      "source": [
        "import numpy as np\r\n",
        "array = np.array([1, 2])\r\n",
        "print(\"As an array: \", end=\"\")  # By default, print statements end in a 'newline' character, but you can modify that using the 'end' argument \r\n",
        "print(array)\r\n",
        "aslist = array.tolist()\r\n",
        "print(\"Now as a list: \", end=\"\")\r\n",
        "print(aslist)\r\n",
        "backtoarray = np.asarray(aslist)\r\n",
        "print(\"End now as an array again: \", end=\"\")\r\n",
        "print(backtoarray)"
      ],
      "execution_count": null,
      "outputs": []
    },
    {
      "cell_type": "markdown",
      "metadata": {
        "id": "qdEpjo0aLU4k"
      },
      "source": [
        "## Dictionaries\r\n",
        "A Python dictionary is not much different from a list, except that each element in it has a name, which can make retrieval of individual elements easier. For example, with the following structure, you (the programmer) don’t need to remember ***where*** in the dictionary the \"Name\" is found, you just need to remember that it’s called \"Name\", to find out what its value is:"
      ]
    },
    {
      "cell_type": "code",
      "metadata": {
        "id": "VZLB8_W8LepK"
      },
      "source": [
        "my_dict = {\"Instructor\": \"Anders Knudby\", \"Name\": \"Remote Sensing\"}\r\n",
        "print(my_dict[\"Name\"])"
      ],
      "execution_count": null,
      "outputs": []
    },
    {
      "cell_type": "markdown",
      "metadata": {
        "id": "YULKkBmbLmij"
      },
      "source": [
        "Learning about the different variable types, if you are doing this for the first time, can be a bit overwhelming. Hopefully this table can help underline the main points:\r\n",
        "\r\n",
        ">Integer | Float | String | Array | List | Dictionary\r\n",
        ">--- | --- | --- | --- | --- | ---\r\n",
        "><div align=\"center\">Whole number | <div align=\"center\">Decimal number | <div align=\"center\">Text | <div align=\"center\">Structured sequence<br/>of numbers | <div align=\"center\">Structured sequence of<br/>any type of variable | <div align=\"center\">Unstructured list of<br/>named variables\r\n",
        "><div align=\"center\">Beware of divisions<br/>in some IDEs | <div align=\"center\">Beware of<br/>rounding errors | <div align=\"center\">Take care when storing<br/>numbers as text | <div align=\"center\">Remember that positions<br/>start at 0 | <div align=\"center\">Remember that positions<br/>start at 0 | <div align=\"center\">Positions are replaced by names,<br/>making retrieval easier\r\n"
      ]
    },
    {
      "cell_type": "markdown",
      "metadata": {
        "id": "HggyC8n0OZco"
      },
      "source": [
        "## Exercise\r\n",
        "1\\) Create an integer variable\r\n",
        "\r\n",
        "2\\) Create a float variable\r\n",
        "\r\n",
        "3\\) Add the two, and put the result into a new variable\r\n",
        "\r\n",
        "4\\) Repeat steps 1-3 with new values\r\n",
        "\r\n",
        "5\\) You should now have two variables created by addition of one integer and one float. Find out the 'type' of these two variables. Make sure you understand ***why*** they have the type they do.\r\n",
        "\r\n",
        "6\\) Create an array that contains the values of those two variables. Make sure to use the variable names when you do it, like myArray = [firstVariable, secondVariable], instead of myArray = [2, 6].\r\n",
        "\r\n",
        "7\\) Turn your array into a list\r\n",
        "\r\n",
        "8\\) Some NumPy functions also work on lists **as long as the lists contain numbers**. Try using the functions 'np.sum', and 'np.mean', on your list. If you get an error when you try the first time then try to figure out why. Search for answers on the Internet. Try different things. Ask a friend. Get it to work."
      ]
    }
  ]
}
